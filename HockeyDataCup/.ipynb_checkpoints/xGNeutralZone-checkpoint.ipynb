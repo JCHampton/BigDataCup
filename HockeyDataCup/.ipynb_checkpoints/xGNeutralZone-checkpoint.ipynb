{
 "cells": [
  {
   "cell_type": "code",
   "execution_count": 1,
   "metadata": {},
   "outputs": [],
   "source": [
    "#import some stuff\n",
    "import pandas as pd\n",
    "import numpy as np\n",
    "import matplotlib.pyplot as plt\n",
    "import math\n",
    "import os\n",
    "from tqdm import tqdm\n",
    "import glob\n",
    "import time\n",
    "import xgboost as xgb\n",
    "from sklearn.model_selection import train_test_split #use this?\n",
    "from scipy import stats\n",
    "from sklearn.metrics import log_loss, mean_squared_error, mean_squared_log_error\n",
    "from sklearn.model_selection import GridSearchCV"
   ]
  },
  {
   "cell_type": "code",
   "execution_count": 2,
   "metadata": {},
   "outputs": [],
   "source": [
    "urlScout = 'https://raw.githubusercontent.com/bigdatacup/Big-Data-Cup-2021/main/hackathon_scouting.csv'\n",
    "urlWomen = 'https://raw.githubusercontent.com/bigdatacup/Big-Data-Cup-2021/main/hackathon_womens.csv'\n",
    "dataScout = pd.read_csv(urlScout)\n",
    "dataWomen = pd.read_csv(urlWomen)"
   ]
  },
  {
   "cell_type": "code",
   "execution_count": 3,
   "metadata": {},
   "outputs": [],
   "source": [
    "pd.set_option('display.max_columns', None)"
   ]
  },
  {
   "cell_type": "code",
   "execution_count": 4,
   "metadata": {},
   "outputs": [
    {
     "data": {
      "text/html": [
       "<div>\n",
       "<style scoped>\n",
       "    .dataframe tbody tr th:only-of-type {\n",
       "        vertical-align: middle;\n",
       "    }\n",
       "\n",
       "    .dataframe tbody tr th {\n",
       "        vertical-align: top;\n",
       "    }\n",
       "\n",
       "    .dataframe thead th {\n",
       "        text-align: right;\n",
       "    }\n",
       "</style>\n",
       "<table border=\"1\" class=\"dataframe\">\n",
       "  <thead>\n",
       "    <tr style=\"text-align: right;\">\n",
       "      <th></th>\n",
       "      <th>game_date</th>\n",
       "      <th>Home Team</th>\n",
       "      <th>Away Team</th>\n",
       "      <th>Period</th>\n",
       "      <th>Clock</th>\n",
       "      <th>Home Team Skaters</th>\n",
       "      <th>Away Team Skaters</th>\n",
       "      <th>Home Team Goals</th>\n",
       "      <th>Away Team Goals</th>\n",
       "      <th>Team</th>\n",
       "      <th>Player</th>\n",
       "      <th>Event</th>\n",
       "      <th>X Coordinate</th>\n",
       "      <th>Y Coordinate</th>\n",
       "      <th>Detail 1</th>\n",
       "      <th>Detail 2</th>\n",
       "      <th>Detail 3</th>\n",
       "      <th>Detail 4</th>\n",
       "      <th>Player 2</th>\n",
       "      <th>X Coordinate 2</th>\n",
       "      <th>Y Coordinate 2</th>\n",
       "    </tr>\n",
       "  </thead>\n",
       "  <tbody>\n",
       "    <tr>\n",
       "      <th>0</th>\n",
       "      <td>2019-09-20</td>\n",
       "      <td>Erie Otters</td>\n",
       "      <td>Sudbury Wolves</td>\n",
       "      <td>1</td>\n",
       "      <td>20:00</td>\n",
       "      <td>5</td>\n",
       "      <td>5</td>\n",
       "      <td>0</td>\n",
       "      <td>0</td>\n",
       "      <td>Sudbury Wolves</td>\n",
       "      <td>Blake Murray</td>\n",
       "      <td>Faceoff Win</td>\n",
       "      <td>100</td>\n",
       "      <td>43</td>\n",
       "      <td>Forehand</td>\n",
       "      <td>NaN</td>\n",
       "      <td>NaN</td>\n",
       "      <td>NaN</td>\n",
       "      <td>Connor Lockhart</td>\n",
       "      <td>NaN</td>\n",
       "      <td>NaN</td>\n",
       "    </tr>\n",
       "  </tbody>\n",
       "</table>\n",
       "</div>"
      ],
      "text/plain": [
       "    game_date    Home Team       Away Team  Period  Clock  Home Team Skaters  \\\n",
       "0  2019-09-20  Erie Otters  Sudbury Wolves       1  20:00                  5   \n",
       "\n",
       "   Away Team Skaters  Home Team Goals  Away Team Goals            Team  \\\n",
       "0                  5                0                0  Sudbury Wolves   \n",
       "\n",
       "         Player        Event  X Coordinate  Y Coordinate  Detail 1 Detail 2  \\\n",
       "0  Blake Murray  Faceoff Win           100            43  Forehand      NaN   \n",
       "\n",
       "  Detail 3 Detail 4         Player 2  X Coordinate 2  Y Coordinate 2  \n",
       "0      NaN      NaN  Connor Lockhart             NaN             NaN  "
      ]
     },
     "execution_count": 4,
     "metadata": {},
     "output_type": "execute_result"
    }
   ],
   "source": [
    "dataScout.head(1)"
   ]
  },
  {
   "cell_type": "code",
   "execution_count": 5,
   "metadata": {},
   "outputs": [],
   "source": [
    "#dataWomen.head(1)"
   ]
  },
  {
   "cell_type": "code",
   "execution_count": 6,
   "metadata": {},
   "outputs": [],
   "source": [
    "#this will load the xCP model\n",
    "\n",
    "xCPModel = xgb.Booster({'nthread':4})\n",
    "xCPModel.load_model('xCPwithDumpInAug_simple.json')"
   ]
  },
  {
   "cell_type": "code",
   "execution_count": 7,
   "metadata": {},
   "outputs": [],
   "source": [
    "#this will load the xG model\n",
    "\n",
    "xGModel = xgb.Booster({'nthread':4})\n",
    "xGModel.load_model('xG_simpleFINAL.json')"
   ]
  },
  {
   "cell_type": "code",
   "execution_count": 8,
   "metadata": {},
   "outputs": [],
   "source": [
    "#this will load the xPassToPoint model\n",
    "\n",
    "xPtPModel = xgb.Booster({'nthread':4})\n",
    "xPtPModel.load_model('xPassToPointNEWAug.json')"
   ]
  },
  {
   "cell_type": "code",
   "execution_count": 9,
   "metadata": {},
   "outputs": [],
   "source": [
    "def fixDumpsX(row):\n",
    "    if row['Event'] == 'Dump In/Out':\n",
    "        if row['NextEvent'] == 'Puck Recovery':\n",
    "            if row['NextX'] < 75:\n",
    "                return (200 - row['NextX'])\n",
    "            else:\n",
    "                return row['NextX']\n",
    "        else:\n",
    "            if row['NextXShift2'] < 75:\n",
    "                return (200 - row['NextXShift2'])\n",
    "            else:\n",
    "                return row['NextXShift2']\n",
    "    else:\n",
    "        return row['X Coordinate 2']\n",
    "    \n",
    "def fixDumpsY(row):\n",
    "    if row['Event'] == 'Dump In/Out':\n",
    "        if row['NextEvent'] == 'Puck Recovery':\n",
    "            if row['NextX'] < 75:\n",
    "                return (85 - row['NextY'])\n",
    "            else:\n",
    "                return row['NextY']\n",
    "        else:\n",
    "            if row['NextXShift2'] < 75:\n",
    "                return (85 - row['NextYShift2'])\n",
    "            else:\n",
    "                return row['NextYShift2']\n",
    "    else:\n",
    "        return row['Y Coordinate 2']\n",
    "\n",
    "def getDataReadyxCP(df):\n",
    "    df = df.copy()\n",
    "    df['NextEvent'] = df['Event'].shift(-1)\n",
    "    df['NextEvent2'] = df['Event'].shift(-2)\n",
    "    df['NextX'] = df['X Coordinate'].shift(-1)\n",
    "    df['NextY'] = df['Y Coordinate'].shift(-1)\n",
    "    df['NextXShift2'] = df['X Coordinate'].shift(-2)\n",
    "    df['NextYShift2'] = df['Y Coordinate'].shift(-2)\n",
    "    #filter out dumps that go to goalie\n",
    "    df = df.loc[((df['Event'] == 'Dump In/Out') & ((df['NextEvent'] == 'Puck Recovery') | (df['NextEvent2'] == 'Puck Recovery'))) | (df['Event'] != 'Dump In/Out')]\n",
    "    df['X Coordinate 2'] = df.apply(lambda row: fixDumpsX(row),axis=1)\n",
    "    df['Y Coordinate 2'] = df.apply(lambda row: fixDumpsY(row),axis=1)\n",
    "    df['isDump'] = df.apply(lambda row: 1 if (row['Event'] == 'Dump In/Out') else 0,axis=1)\n",
    "    df['isDumpRetained'] = df.apply(lambda row: (row['Detail 1'] == 'Retained'),axis=1)\n",
    "    \n",
    "    filteredDF = df.loc[(df['Event'] ==  'Play' ) | (df['Event'] == 'Incomplete Play') | (df['Event'] == 'Dump In/Out')].copy() #only need these rows\n",
    "    filteredDF['TeamSkaters'] = filteredDF.apply(lambda row: row['Home Team Skaters'] if (row['Team'] == row['Home Team']) else row['Away Team Skaters'],axis=1)\n",
    "    filteredDF['OppSkaters'] = filteredDF.apply(lambda row: row['Home Team Skaters'] if (row['Team'] == row['Away Team']) else row['Away Team Skaters'],axis=1)\n",
    "    filteredDF['onPP'] = filteredDF.apply(lambda row: row['TeamSkaters'] > row['OppSkaters'],axis=1)\n",
    "    filteredDF['onPK'] = filteredDF.apply(lambda row: row['TeamSkaters'] < row['OppSkaters'],axis=1)\n",
    "    filteredDF['AmountExtraSkaters'] = filteredDF.apply(lambda row: row['TeamSkaters'] - row['OppSkaters'],axis=1)\n",
    "    filteredDF['CompletePass'] = filteredDF.apply(lambda row: 1 if (row['Event'] == 'Play') else 0,axis=1)\n",
    "    filteredDF['CompletePass'] = filteredDF.apply(lambda row: 1 if ((row['isDump'] == 1) & row['isDumpRetained'])\n",
    "                                                  else row['CompletePass'],axis=1)\n",
    "    filteredDF['passXTravel'] = filteredDF.apply(lambda row: row['X Coordinate 2'] - row['X Coordinate'],axis=1)\n",
    "    filteredDF['passYTravel'] = filteredDF.apply(lambda row: row['Y Coordinate 2'] - row['Y Coordinate'],axis=1)\n",
    "    filteredDF['TotalDistance'] = filteredDF.apply(lambda row: (row['passXTravel']**2 + row['passYTravel']**2)**0.5,axis=1)\n",
    "    #this is for simple model\n",
    "    filteredDF = filteredDF[['X Coordinate','Y Coordinate','X Coordinate 2','Y Coordinate 2','onPP','onPK','isDump',\n",
    "                           'passXTravel','passYTravel','TotalDistance','AmountExtraSkaters','CompletePass']]\n",
    "    X = filteredDF.iloc[:,:-1]\n",
    "    y = filteredDF.iloc[:,-1]\n",
    "    return X,y"
   ]
  },
  {
   "cell_type": "code",
   "execution_count": 10,
   "metadata": {},
   "outputs": [],
   "source": [
    "#here this will help make an xGoals model\n",
    "def getDataReadyxG(df):\n",
    "    df = df.copy()\n",
    "    #this is for the offensive zone xG\n",
    "    #filteredDF = df.loc[(df['Event'] ==  'Shot' ) | (df['Event'] == 'Goal')].copy() #only need these rows\n",
    "    filteredDF = df.loc[df['X Coordinate'] >= 125].copy()\n",
    "    \n",
    "    filteredDF['TeamSkaters'] = filteredDF.apply(lambda row: row['Home Team Skaters'] if (row['Team'] == row['Home Team']) else row['Away Team Skaters'],axis=1)\n",
    "    filteredDF['OppSkaters'] = filteredDF.apply(lambda row: row['Home Team Skaters'] if (row['Team'] == row['Away Team']) else row['Away Team Skaters'],axis=1)\n",
    "    filteredDF['onPP'] = filteredDF.apply(lambda row: 1*((row['TeamSkaters'] > row['OppSkaters']) & (row['OppSkaters'] < 5)),axis=1)\n",
    "    filteredDF['onPK'] = filteredDF.apply(lambda row: 1*((row['TeamSkaters'] < row['OppSkaters']) & (row['TeamSkaters'] < 5)),axis=1)\n",
    "    filteredDF['TeamEmptyNet'] = filteredDF.apply(lambda row: 1*(row['TeamSkaters'] > 6),axis=1)\n",
    "    filteredDF['OppEmptyNet'] = filteredDF.apply(lambda row: 1*(row['OppSkaters'] > 6),axis=1)\n",
    "    filteredDF['AmountExtraSkaters'] = filteredDF.apply(lambda row: row['TeamSkaters'] - row['OppSkaters'],axis=1)\n",
    "    filteredDF['Goal'] = filteredDF.apply(lambda row: 1 if (row['Event'] == 'Goal') else 0,axis=1)\n",
    "    filteredDF['DistanceToCenterGoal'] = filteredDF.apply(lambda row: ((189 - row['X Coordinate'])**2 + (42.5 - row['Y Coordinate'])**2)**0.5,axis=1)\n",
    "    def getAreaNet(x,y):\n",
    "        if y > 42.5:\n",
    "            y = 85 - y #so it's like we're on the bottom side of the rink - mirror doesn't matter\n",
    "        hyp = ((189 - x)**2 + (39.5 - y)**2)**0.5\n",
    "        vector1 = [189 - x, 39.5 - y]\n",
    "        vector2 = [189 - x, 45.5 - y]\n",
    "        unit_vector_1 = vector1 / np.linalg.norm(vector1)\n",
    "        unit_vector_2 = vector2 / np.linalg.norm(vector2)\n",
    "        dot_product = np.dot(unit_vector_1, unit_vector_2)\n",
    "        angle = np.arccos(dot_product)\n",
    "        angle = angle / 2 #using angle bisector for triangle\n",
    "        halfNet = np.sin(angle) * hyp\n",
    "        fullNet = 2 * halfNet\n",
    "        return fullNet*4\n",
    "    filteredDF['SurfaceAreaNetSeen'] = filteredDF.apply(lambda row: getAreaNet(row['X Coordinate'],row['Y Coordinate']),axis=1)\n",
    "    filteredDF = filteredDF[['onPP','onPK','TeamEmptyNet','OppEmptyNet','AmountExtraSkaters','DistanceToCenterGoal','SurfaceAreaNetSeen','Goal']]\n",
    "    X = filteredDF.iloc[:,:-1]\n",
    "    y = filteredDF.iloc[:,-1]\n",
    "    return X,y"
   ]
  },
  {
   "cell_type": "code",
   "execution_count": 11,
   "metadata": {},
   "outputs": [],
   "source": [
    "def getDataReadyxGNeutral(df):\n",
    "    df = df.copy()\n",
    "    df = df.loc[(df['X Coordinate'] > 75) & (df['X Coordinate'] < 125)]\n",
    "    df['TeamSkaters'] = df.apply(lambda row: row['Home Team Skaters'] if (row['Team'] == row['Home Team']) else row['Away Team Skaters'],axis=1)\n",
    "    df['OppSkaters'] = df.apply(lambda row: row['Home Team Skaters'] if (row['Team'] == row['Away Team']) else row['Away Team Skaters'],axis=1)\n",
    "    df['onPP'] = df.apply(lambda row: 1*((row['TeamSkaters'] > row['OppSkaters']) & (row['OppSkaters'] < 5)),axis=1)\n",
    "    df['onPK'] = df.apply(lambda row: 1*((row['TeamSkaters'] < row['OppSkaters']) & (row['TeamSkaters'] < 5)),axis=1)\n",
    "    df['TeamEmptyNet'] = df.apply(lambda row: 1*(row['TeamSkaters'] > 6),axis=1)\n",
    "    df['OppEmptyNet'] = df.apply(lambda row: 1*(row['OppSkaters'] > 6),axis=1)\n",
    "    df['AmountExtraSkaters'] = df.apply(lambda row: row['TeamSkaters'] - row['OppSkaters'],axis=1)\n",
    "    #isDump may need to be changed on where x2 and y2 are\n",
    "    df['isDump'] = df.apply(lambda row: 1 if (row['Event'] == 'Dump In/Out') else 0,axis=1)\n",
    "    #this is for simple model\n",
    "    df = df[['X Coordinate','Y Coordinate','onPP','onPK','TeamEmptyNet','OppEmptyNet','isDump','AmountExtraSkaters']]\n",
    "    return df"
   ]
  },
  {
   "cell_type": "code",
   "execution_count": 12,
   "metadata": {},
   "outputs": [],
   "source": [
    "def getDataReadyxGDefensive(df):\n",
    "    df = df.copy()\n",
    "    df = df.loc[(df['X Coordinate'] <= 75)]\n",
    "    df['TeamSkaters'] = df.apply(lambda row: row['Home Team Skaters'] if (row['Team'] == row['Home Team']) else row['Away Team Skaters'],axis=1)\n",
    "    df['OppSkaters'] = df.apply(lambda row: row['Home Team Skaters'] if (row['Team'] == row['Away Team']) else row['Away Team Skaters'],axis=1)\n",
    "    df['onPP'] = df.apply(lambda row: 1*((row['TeamSkaters'] > row['OppSkaters']) & (row['OppSkaters'] < 5)),axis=1)\n",
    "    df['onPK'] = df.apply(lambda row: 1*((row['TeamSkaters'] < row['OppSkaters']) & (row['TeamSkaters'] < 5)),axis=1)\n",
    "    df['TeamEmptyNet'] = df.apply(lambda row: 1*(row['TeamSkaters'] > 6),axis=1)\n",
    "    df['OppEmptyNet'] = df.apply(lambda row: 1*(row['OppSkaters'] > 6),axis=1)\n",
    "    df['AmountExtraSkaters'] = df.apply(lambda row: row['TeamSkaters'] - row['OppSkaters'],axis=1)\n",
    "    #isDump may need to be changed on where x2 and y2 are\n",
    "    df['isDump'] = df.apply(lambda row: 1 if (row['Event'] == 'Dump In/Out') else 0,axis=1)\n",
    "    #this is for simple model\n",
    "    df = df[['X Coordinate','Y Coordinate','onPP','onPK','TeamEmptyNet','OppEmptyNet','isDump','AmountExtraSkaters']]\n",
    "    return df"
   ]
  },
  {
   "cell_type": "markdown",
   "metadata": {},
   "source": [
    "# Get the neutral zone xG"
   ]
  },
  {
   "cell_type": "code",
   "execution_count": 16,
   "metadata": {},
   "outputs": [],
   "source": [
    "readyDF = getDataReadyxGNeutral(dataScout)"
   ]
  },
  {
   "cell_type": "code",
   "execution_count": 79,
   "metadata": {},
   "outputs": [],
   "source": [
    "def getDist(x1,x2):\n",
    "    return (x2-x1)\n",
    "def get2dDist(xdist,ydist):\n",
    "    return (xdist**2 + ydist**2)**0.5\n",
    "def distToCenterGoal(x,y):\n",
    "    return ((189 - x)**2 + (42.5 - y)**2)**0.5\n",
    "def getAreaNet(x,y):\n",
    "    if y > 42.5:\n",
    "        y = 85 - y #so it's like we're on the bottom side of the rink - mirror doesn't matter\n",
    "    if x > 189:\n",
    "        return 0\n",
    "    else:\n",
    "        hyp = ((189 - x)**2 + (39.5 - y)**2)**0.5\n",
    "        vector1 = [189 - x, 39.5 - y]\n",
    "        vector2 = [189 - x, 45.5 - y]\n",
    "        unit_vector_1 = vector1 / np.linalg.norm(vector1)\n",
    "        unit_vector_2 = vector2 / np.linalg.norm(vector2)\n",
    "        dot_product = np.dot(unit_vector_1, unit_vector_2)\n",
    "        angle = np.arccos(dot_product)\n",
    "        angle = angle / 2 #using angle bisector for triangle\n",
    "        halfNet = np.sin(angle) * hyp\n",
    "        fullNet = 2 * halfNet\n",
    "        return fullNet*4\n",
    "#this assumes input df is just the events in neutral zone\n",
    "def getxGNeutralhelper(row,xy_grid):\n",
    "    xCPList = []\n",
    "    xGList = []\n",
    "    xGNegList = []\n",
    "    for x,y in xy_grid:\n",
    "        xdist = getDist(row['X Coordinate'],x)\n",
    "        ydist = getDist(row['Y Coordinate'],y)\n",
    "        xCPList.append([row['X Coordinate'],row['Y Coordinate'],x,y,row['onPP'],row['onPK'],1*(x > 189),\n",
    "                                 xdist,ydist,get2dDist(xdist,ydist),row['AmountExtraSkaters']])\n",
    "        xGList.append([row['onPP'],row['onPK'],row['TeamEmptyNet'],row['OppEmptyNet'],row['AmountExtraSkaters'],\n",
    "                       distToCenterGoal(x,y),getAreaNet(x,y)])\n",
    "        xGNegList.append(0.005) #average xG in defensive zone\n",
    "    xCPdf = pd.DataFrame(xCPList,columns=['X Coordinate','Y Coordinate','X Coordinate 2','Y Coordinate 2','onPP','onPK',\n",
    "                                            'isDump','passXTravel','passYTravel','TotalDistance','AmountExtraSkaters'])\n",
    "    xGdf = pd.DataFrame(xGList,columns=['onPP','onPK','TeamEmptyNet','OppEmptyNet','AmountExtraSkaters','DistanceToCenterGoal','SurfaceAreaNetSeen'])\n",
    "    dtestxCP = xgb.DMatrix(xCPdf)\n",
    "    xCP_predictions = xCPModel.predict(dtestxCP).tolist()\n",
    "    dtestxG = xgb.DMatrix(xGdf)\n",
    "    xG_predictions = xGModel.predict(dtestxG).tolist()\n",
    "    #xPtP and xCP use same columns\n",
    "    \n",
    "    #I'm just saying everything is on bottom of ice\n",
    "    xCPdf['Y Coordinate'] = xCPdf.apply(lambda row: (85 - row['Y Coordinate']) if (row['Y Coordinate'] > 42)\n",
    "                                       else row['Y Coordinate'],axis=1)\n",
    "    xCPdf['Y Coordinate 2'] = xCPdf.apply(lambda row: (85 - row['Y Coordinate 2']) if (row['Y Coordinate 2'] > 42)\n",
    "                                       else row['Y Coordinate 2'],axis=1)\n",
    "    dtestxPtP = xgb.DMatrix(xCPdf)\n",
    "    xPtP_predictions = xPtPModel.predict(dtestxPtP).tolist()\n",
    "    predsum = sum(xPtP_predictions) #21.84 \n",
    "    newxPtPpreds = [ele/predsum for ele in xPtP_predictions]\n",
    "    xG = 0\n",
    "    for n1,n2,n3 in zip(xCP_predictions,xG_predictions,newxPtPpreds):\n",
    "        xG += (n1*n2*n3)\n",
    "    #now if pass is intercepted\n",
    "    xCP_predictionsNeg = [(1-i) for i in xCP_predictions]\n",
    "    for n1,n2,n3 in zip(xCP_predictionsNeg,xGNegList,newxPtPpreds):\n",
    "        xG -= (n1*n2*n3)\n",
    "    return xG"
   ]
  },
  {
   "cell_type": "code",
   "execution_count": 80,
   "metadata": {},
   "outputs": [],
   "source": [
    "testDF= readyDF.copy()"
   ]
  },
  {
   "cell_type": "code",
   "execution_count": 81,
   "metadata": {},
   "outputs": [
    {
     "name": "stdout",
     "output_type": "stream",
     "text": [
      "Wall time: 10min 26s\n"
     ]
    }
   ],
   "source": [
    "%%time\n",
    "\n",
    "xy_grid = [(5*x,5*y) for x in range(26,30) for y in range(17)]\n",
    "testDF['xG'] = testDF.apply(lambda row: getxGNeutralhelper(row,xy_grid),axis=1)"
   ]
  },
  {
   "cell_type": "code",
   "execution_count": 82,
   "metadata": {},
   "outputs": [
    {
     "data": {
      "image/png": "[encoded data removed]",
      "text/plain": [
       "<Figure size 432x288 with 2 Axes>"
      ]
     },
     "metadata": {
      "needs_background": "light"
     },
     "output_type": "display_data"
    }
   ],
   "source": [
    "nonPPorDump = testDF.loc[(testDF['AmountExtraSkaters'] == 0) & (testDF['isDump'] == 0)]\n",
    "plt.figure()\n",
    "plt.scatter(nonPPorDump['X Coordinate'].tolist(),nonPPorDump['Y Coordinate'].tolist(),c=nonPPorDump['xG'].tolist(),s=1,cmap='viridis')\n",
    "#plt.gray()\n",
    "plt.colorbar()\n",
    "plt.title(\"Neutral Zone xG with No Power Play\")\n",
    "rinkPath = 'https://raw.githubusercontent.com/bigdatacup/Big-Data-Cup-2021/main/rink_coords.png'\n",
    "im = plt.imread(rinkPath)\n",
    "plt.imshow(im,extent=(-20,230,-20,100))\n",
    "plt.axis('off')\n",
    "plt.show()"
   ]
  },
  {
   "cell_type": "markdown",
   "metadata": {},
   "source": [
    "# Get the Defensive zone xG"
   ]
  },
  {
   "cell_type": "code",
   "execution_count": 83,
   "metadata": {},
   "outputs": [
    {
     "name": "stdout",
     "output_type": "stream",
     "text": [
      "Wall time: 6.36 s\n"
     ]
    }
   ],
   "source": [
    "%%time \n",
    "neutralZonexG = {}\n",
    "for i in range(len(testDF)):\n",
    "    row = testDF.iloc[i]\n",
    "    neutralZonexG['('+str(row['X Coordinate'])+','+str(row['Y Coordinate'])+','+str(row['onPP'])+','+\n",
    "            str(row['onPK'])+','+str(row['TeamEmptyNet'])+','+str(row['OppEmptyNet'])+','+\n",
    "            str(row['isDump'])+','+str(row['AmountExtraSkaters'])+')'] = row['xG']"
   ]
  },
  {
   "cell_type": "code",
   "execution_count": 85,
   "metadata": {},
   "outputs": [],
   "source": [
    "#this assumes input df is just the events in defensive zone\n",
    "def getxGDefensivehelper(row,xy_grid,neutralZonexG):\n",
    "    xCPList = []\n",
    "    xGList = []\n",
    "    xGNegList = []\n",
    "    for x,y in xy_grid:\n",
    "        xdist = getDist(row['X Coordinate'],x)\n",
    "        ydist = getDist(row['Y Coordinate'],y)\n",
    "        xCPList.append([row['X Coordinate'],row['Y Coordinate'],x,y,row['onPP'],row['onPK'],1*(x > 189),\n",
    "                                 xdist,ydist,get2dDist(xdist,ydist),row['AmountExtraSkaters']])\n",
    "        try:\n",
    "            xGList.append(neutralZonexG['('+str(x)+','+str(y)+','+\n",
    "                                        str(row['onPP'])+','+str(row['onPK'])+','+str(row['TeamEmptyNet'])+\n",
    "                                        ','+str(row['OppEmptyNet'])+','+str(row['isDump'])+','+\n",
    "                                        str(row['AmountExtraSkaters'])+')'])\n",
    "        except Exception as err:\n",
    "            xGList.append(0.0088) #0.005 since that's about the average xG in neutral zone\n",
    "        try:\n",
    "            xGNegList.append(neutralZonexG['('+str(x)+','+str(y)+','+\n",
    "                                        str(row['onPK'])+','+str(row['onPP'])+','+str(row['OppEmptyNet'])+\n",
    "                                        ','+str(row['TeamEmptyNet'])+','+str(row['isDump'])+','+\n",
    "                                        str(-1*row['AmountExtraSkaters'])+')'])\n",
    "        except Exception as err:\n",
    "            xGNegList.append(0.0088)\n",
    "        \n",
    "        \n",
    "    xCPdf = pd.DataFrame(xCPList,columns=['X Coordinate','Y Coordinate','X Coordinate 2','Y Coordinate 2','onPP','onPK',\n",
    "                                            'isDump','passXTravel','passYTravel','TotalDistance','AmountExtraSkaters'])\n",
    "    dtestxCP = xgb.DMatrix(xCPdf)\n",
    "    xCP_predictions = xCPModel.predict(dtestxCP).tolist()\n",
    "    #xPtP and xCP use same columns\n",
    "    \n",
    "    #I'm just saying everything is on bottom of ice for the pass to point model\n",
    "    xCPdf['Y Coordinate'] = xCPdf.apply(lambda row: (85 - row['Y Coordinate']) if (row['Y Coordinate'] > 42)\n",
    "                                       else row['Y Coordinate'],axis=1)\n",
    "    xCPdf['Y Coordinate 2'] = xCPdf.apply(lambda row: (85 - row['Y Coordinate 2']) if (row['Y Coordinate 2'] > 42)\n",
    "                                       else row['Y Coordinate 2'],axis=1)\n",
    "    dtestxPtP = xgb.DMatrix(xCPdf)\n",
    "    xPtP_predictions = xPtPModel.predict(dtestxPtP).tolist()\n",
    "    predsum = sum(xPtP_predictions) \n",
    "    newxPtPpreds = [ele/predsum for ele in xPtP_predictions]\n",
    "    xG = 0\n",
    "    for n1,n2,n3 in zip(xCP_predictions,xGList,newxPtPpreds):\n",
    "        xG += (n1*n2*n3)\n",
    "    #now if pass is intercepted\n",
    "    xCP_predictionsNeg = [(1-i) for i in xCP_predictions]\n",
    "    for n1,n2,n3 in zip(xCP_predictionsNeg,xGNegList,newxPtPpreds):\n",
    "        xG -= (n1*n2*n3)\n",
    "    return xG"
   ]
  },
  {
   "cell_type": "code",
   "execution_count": 35,
   "metadata": {},
   "outputs": [],
   "source": [
    "readyDFDefensive = getDataReadyxGDefensive(dataScout)"
   ]
  },
  {
   "cell_type": "code",
   "execution_count": 86,
   "metadata": {},
   "outputs": [],
   "source": [
    "testDFDefensive = readyDFDefensive.copy()"
   ]
  },
  {
   "cell_type": "code",
   "execution_count": 87,
   "metadata": {},
   "outputs": [
    {
     "name": "stdout",
     "output_type": "stream",
     "text": [
      "Wall time: 38min 15s\n"
     ]
    }
   ],
   "source": [
    "%%time\n",
    "\n",
    "xy_gridDefense = [(5*x,5*y) for x in range(16,24) for y in range(17)]\n",
    "testDFDefensive['xG'] = testDFDefensive.apply(lambda row: getxGDefensivehelper(row,xy_gridDefense,neutralZonexG),axis=1)"
   ]
  },
  {
   "cell_type": "code",
   "execution_count": 88,
   "metadata": {},
   "outputs": [
    {
     "data": {
      "image/png": "[encoded data removed]",
      "text/plain": [
       "<Figure size 432x288 with 2 Axes>"
      ]
     },
     "metadata": {
      "needs_background": "light"
     },
     "output_type": "display_data"
    }
   ],
   "source": [
    "nonPPorDump2 = testDFDefensive.loc[(testDFDefensive['AmountExtraSkaters'] == 0) & (testDFDefensive['isDump'] == 0)]\n",
    "plt.figure()\n",
    "plt.scatter(nonPPorDump2['X Coordinate'].tolist(),nonPPorDump2['Y Coordinate'].tolist(),c=nonPPorDump2['xG'].tolist(),s=1,cmap='viridis')\n",
    "#plt.gray()\n",
    "plt.colorbar()\n",
    "plt.title(\"Defensive Zone xG with No Power Play\")\n",
    "rinkPath = 'https://raw.githubusercontent.com/bigdatacup/Big-Data-Cup-2021/main/rink_coords.png'\n",
    "im = plt.imread(rinkPath)\n",
    "plt.imshow(im,extent=(-20,230,-20,100))\n",
    "plt.axis('off')\n",
    "plt.show()"
   ]
  },
  {
   "cell_type": "markdown",
   "metadata": {},
   "source": [
    "# Get a csv with all the xG values "
   ]
  },
  {
   "cell_type": "code",
   "execution_count": 89,
   "metadata": {},
   "outputs": [],
   "source": [
    "testDFOffensive,ydfOffensive = getDataReadyxG(dataScout)"
   ]
  },
  {
   "cell_type": "code",
   "execution_count": 90,
   "metadata": {},
   "outputs": [],
   "source": [
    "dtestxG = xgb.DMatrix(testDFOffensive)\n",
    "xG_predictions = xGModel.predict(dtestxG).tolist()\n",
    "testDFOffensive['xG'] = xG_predictions"
   ]
  },
  {
   "cell_type": "code",
   "execution_count": 91,
   "metadata": {},
   "outputs": [],
   "source": [
    "testDFOffensive2 = testDFOffensive[['xG']].copy()\n",
    "testDFDefensive2 = testDFDefensive[['xG']].copy()\n",
    "testDF2 = testDF[['xG']].copy()"
   ]
  },
  {
   "cell_type": "code",
   "execution_count": 92,
   "metadata": {},
   "outputs": [],
   "source": [
    "allxG = pd.concat([testDFOffensive2,testDFDefensive2,testDF2])"
   ]
  },
  {
   "cell_type": "code",
   "execution_count": 94,
   "metadata": {},
   "outputs": [],
   "source": [
    "dataScoutwithxG = dataScout.merge(allxG,left_index=True,right_index=True)"
   ]
  },
  {
   "cell_type": "code",
   "execution_count": 100,
   "metadata": {},
   "outputs": [],
   "source": [
    "dataScoutwithxG.to_csv('dataScoutwithxG.csv')"
   ]
  },
  {
   "cell_type": "code",
   "execution_count": null,
   "metadata": {},
   "outputs": [],
   "source": []
  }
 ],
 "metadata": {
  "kernelspec": {
   "display_name": "Python 3",
   "language": "python",
   "name": "python3"
  },
  "language_info": {
   "codemirror_mode": {
    "name": "ipython",
    "version": 3
   },
   "file_extension": ".py",
   "mimetype": "text/x-python",
   "name": "python",
   "nbconvert_exporter": "python",
   "pygments_lexer": "ipython3",
   "version": "3.7.6"
  }
 },
 "nbformat": 4,
 "nbformat_minor": 4
}
