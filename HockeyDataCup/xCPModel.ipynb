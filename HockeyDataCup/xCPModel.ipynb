{
 "cells": [
  {
   "cell_type": "code",
   "execution_count": 21,
   "metadata": {},
   "outputs": [],
   "source": [
    "#import some stuff\n",
    "import pandas as pd\n",
    "import numpy as np\n",
    "import matplotlib.pyplot as plt\n",
    "import math\n",
    "import os\n",
    "from tqdm import tqdm\n",
    "import glob\n",
    "import time\n",
    "import xgboost as xgb\n",
    "from sklearn.model_selection import train_test_split #use this?\n",
    "from scipy import stats\n",
    "from sklearn.metrics import log_loss, mean_squared_error, mean_squared_log_error\n",
    "from sklearn.model_selection import GridSearchCV"
   ]
  },
  {
   "cell_type": "code",
   "execution_count": 2,
   "metadata": {},
   "outputs": [],
   "source": [
    "urlScout = 'https://raw.githubusercontent.com/bigdatacup/Big-Data-Cup-2021/main/hackathon_scouting.csv'\n",
    "urlWomen = 'https://raw.githubusercontent.com/bigdatacup/Big-Data-Cup-2021/main/hackathon_womens.csv'\n",
    "dataScout = pd.read_csv(urlScout)\n",
    "dataWomen = pd.read_csv(urlWomen)"
   ]
  },
  {
   "cell_type": "code",
   "execution_count": 3,
   "metadata": {},
   "outputs": [],
   "source": [
    "pd.set_option('display.max_columns', None)"
   ]
  },
  {
   "cell_type": "code",
   "execution_count": 4,
   "metadata": {},
   "outputs": [
    {
     "data": {
      "text/html": [
       "<div>\n",
       "<style scoped>\n",
       "    .dataframe tbody tr th:only-of-type {\n",
       "        vertical-align: middle;\n",
       "    }\n",
       "\n",
       "    .dataframe tbody tr th {\n",
       "        vertical-align: top;\n",
       "    }\n",
       "\n",
       "    .dataframe thead th {\n",
       "        text-align: right;\n",
       "    }\n",
       "</style>\n",
       "<table border=\"1\" class=\"dataframe\">\n",
       "  <thead>\n",
       "    <tr style=\"text-align: right;\">\n",
       "      <th></th>\n",
       "      <th>game_date</th>\n",
       "      <th>Home Team</th>\n",
       "      <th>Away Team</th>\n",
       "      <th>Period</th>\n",
       "      <th>Clock</th>\n",
       "      <th>Home Team Skaters</th>\n",
       "      <th>Away Team Skaters</th>\n",
       "      <th>Home Team Goals</th>\n",
       "      <th>Away Team Goals</th>\n",
       "      <th>Team</th>\n",
       "      <th>Player</th>\n",
       "      <th>Event</th>\n",
       "      <th>X Coordinate</th>\n",
       "      <th>Y Coordinate</th>\n",
       "      <th>Detail 1</th>\n",
       "      <th>Detail 2</th>\n",
       "      <th>Detail 3</th>\n",
       "      <th>Detail 4</th>\n",
       "      <th>Player 2</th>\n",
       "      <th>X Coordinate 2</th>\n",
       "      <th>Y Coordinate 2</th>\n",
       "    </tr>\n",
       "  </thead>\n",
       "  <tbody>\n",
       "    <tr>\n",
       "      <th>0</th>\n",
       "      <td>2019-09-20</td>\n",
       "      <td>Erie Otters</td>\n",
       "      <td>Sudbury Wolves</td>\n",
       "      <td>1</td>\n",
       "      <td>20:00</td>\n",
       "      <td>5</td>\n",
       "      <td>5</td>\n",
       "      <td>0</td>\n",
       "      <td>0</td>\n",
       "      <td>Sudbury Wolves</td>\n",
       "      <td>Blake Murray</td>\n",
       "      <td>Faceoff Win</td>\n",
       "      <td>100</td>\n",
       "      <td>43</td>\n",
       "      <td>Forehand</td>\n",
       "      <td>NaN</td>\n",
       "      <td>NaN</td>\n",
       "      <td>NaN</td>\n",
       "      <td>Connor Lockhart</td>\n",
       "      <td>NaN</td>\n",
       "      <td>NaN</td>\n",
       "    </tr>\n",
       "  </tbody>\n",
       "</table>\n",
       "</div>"
      ],
      "text/plain": [
       "    game_date    Home Team       Away Team  Period  Clock  Home Team Skaters  \\\n",
       "0  2019-09-20  Erie Otters  Sudbury Wolves       1  20:00                  5   \n",
       "\n",
       "   Away Team Skaters  Home Team Goals  Away Team Goals            Team  \\\n",
       "0                  5                0                0  Sudbury Wolves   \n",
       "\n",
       "         Player        Event  X Coordinate  Y Coordinate  Detail 1 Detail 2  \\\n",
       "0  Blake Murray  Faceoff Win           100            43  Forehand      NaN   \n",
       "\n",
       "  Detail 3 Detail 4         Player 2  X Coordinate 2  Y Coordinate 2  \n",
       "0      NaN      NaN  Connor Lockhart             NaN             NaN  "
      ]
     },
     "execution_count": 4,
     "metadata": {},
     "output_type": "execute_result"
    }
   ],
   "source": [
    "dataScout.head(1)"
   ]
  },
  {
   "cell_type": "code",
   "execution_count": 5,
   "metadata": {},
   "outputs": [
    {
     "name": "stdout",
     "output_type": "stream",
     "text": [
      "There are  13  games in the women dataset\n",
      "There are  40  games in the scout dataset\n"
     ]
    }
   ],
   "source": [
    "a = np.array(dataWomen[['game_date','Home Team','Away Team']]).astype(\"<U22\")\n",
    "print('There are ',len(np.unique(a,axis=0)),' games in the women dataset')\n",
    "b = np.array(dataScout[['game_date','Home Team','Away Team']]).astype(\"<U22\")\n",
    "print('There are ',len(np.unique(b,axis=0)),' games in the scout dataset')"
   ]
  },
  {
   "cell_type": "code",
   "execution_count": 6,
   "metadata": {},
   "outputs": [
    {
     "data": {
      "text/html": [
       "<div>\n",
       "<style scoped>\n",
       "    .dataframe tbody tr th:only-of-type {\n",
       "        vertical-align: middle;\n",
       "    }\n",
       "\n",
       "    .dataframe tbody tr th {\n",
       "        vertical-align: top;\n",
       "    }\n",
       "\n",
       "    .dataframe thead th {\n",
       "        text-align: right;\n",
       "    }\n",
       "</style>\n",
       "<table border=\"1\" class=\"dataframe\">\n",
       "  <thead>\n",
       "    <tr style=\"text-align: right;\">\n",
       "      <th></th>\n",
       "      <th>game_date</th>\n",
       "      <th>Home Team</th>\n",
       "      <th>Away Team</th>\n",
       "      <th>Period</th>\n",
       "      <th>Clock</th>\n",
       "      <th>Home Team Skaters</th>\n",
       "      <th>Away Team Skaters</th>\n",
       "      <th>Home Team Goals</th>\n",
       "      <th>Away Team Goals</th>\n",
       "      <th>Team</th>\n",
       "      <th>Player</th>\n",
       "      <th>Event</th>\n",
       "      <th>X Coordinate</th>\n",
       "      <th>Y Coordinate</th>\n",
       "      <th>Detail 1</th>\n",
       "      <th>Detail 2</th>\n",
       "      <th>Detail 3</th>\n",
       "      <th>Detail 4</th>\n",
       "      <th>Player 2</th>\n",
       "      <th>X Coordinate 2</th>\n",
       "      <th>Y Coordinate 2</th>\n",
       "    </tr>\n",
       "  </thead>\n",
       "  <tbody>\n",
       "    <tr>\n",
       "      <th>0</th>\n",
       "      <td>2018-02-11</td>\n",
       "      <td>Olympic (Women) - Canada</td>\n",
       "      <td>Olympic (Women) - Olympic Athletes from Russia</td>\n",
       "      <td>1</td>\n",
       "      <td>20:00</td>\n",
       "      <td>5</td>\n",
       "      <td>5</td>\n",
       "      <td>0</td>\n",
       "      <td>0</td>\n",
       "      <td>Olympic (Women) - Canada</td>\n",
       "      <td>Emily Clark</td>\n",
       "      <td>Faceoff Win</td>\n",
       "      <td>100</td>\n",
       "      <td>42</td>\n",
       "      <td>Backhand</td>\n",
       "      <td>NaN</td>\n",
       "      <td>NaN</td>\n",
       "      <td>NaN</td>\n",
       "      <td>Lyudmila Belyakova</td>\n",
       "      <td>NaN</td>\n",
       "      <td>NaN</td>\n",
       "    </tr>\n",
       "  </tbody>\n",
       "</table>\n",
       "</div>"
      ],
      "text/plain": [
       "    game_date                 Home Team  \\\n",
       "0  2018-02-11  Olympic (Women) - Canada   \n",
       "\n",
       "                                        Away Team  Period  Clock  \\\n",
       "0  Olympic (Women) - Olympic Athletes from Russia       1  20:00   \n",
       "\n",
       "   Home Team Skaters  Away Team Skaters  Home Team Goals  Away Team Goals  \\\n",
       "0                  5                  5                0                0   \n",
       "\n",
       "                       Team       Player        Event  X Coordinate  \\\n",
       "0  Olympic (Women) - Canada  Emily Clark  Faceoff Win           100   \n",
       "\n",
       "   Y Coordinate  Detail 1 Detail 2 Detail 3 Detail 4            Player 2  \\\n",
       "0            42  Backhand      NaN      NaN      NaN  Lyudmila Belyakova   \n",
       "\n",
       "   X Coordinate 2  Y Coordinate 2  \n",
       "0             NaN             NaN  "
      ]
     },
     "execution_count": 6,
     "metadata": {},
     "output_type": "execute_result"
    }
   ],
   "source": [
    "dataWomen.head(1)"
   ]
  },
  {
   "cell_type": "code",
   "execution_count": 8,
   "metadata": {},
   "outputs": [
    {
     "name": "stdout",
     "output_type": "stream",
     "text": [
      "Amount of Passes for Women: 10105\n",
      "Amount of Shots for Women: 1671\n",
      "Amount of Passes for Scout: 32668\n",
      "Amount of Shots for Scout: 5180\n"
     ]
    }
   ],
   "source": [
    "print('Amount of Passes for Women:',len(dataWomen.loc[(dataWomen['Event'] ==  'Play' ) | (dataWomen['Event'] == 'Incomplete Play')]))\n",
    "print('Amount of Shots for Women:',len(dataWomen.loc[(dataWomen['Event'] ==  'Shot' ) | (dataWomen['Event'] == 'Goal')]))\n",
    "print('Amount of Passes for Scout:',len(dataScout.loc[(dataScout['Event'] ==  'Play' ) | (dataScout['Event'] == 'Incomplete Play')]))\n",
    "print('Amount of Shots for Scout:',len(dataScout.loc[(dataScout['Event'] ==  'Shot' ) | (dataScout['Event'] == 'Goal')]))"
   ]
  },
  {
   "cell_type": "code",
   "execution_count": 109,
   "metadata": {},
   "outputs": [],
   "source": [
    "def fixDumpsX(row):\n",
    "    if row['Event'] == 'Dump In/Out':\n",
    "        if row['NextEvent'] == 'Puck Recovery':\n",
    "            if row['NextX'] < 75:\n",
    "                return (200 - row['NextX'])\n",
    "            else:\n",
    "                return row['NextX']\n",
    "        else:\n",
    "            if row['NextXShift2'] < 75:\n",
    "                return (200 - row['NextXShift2'])\n",
    "            else:\n",
    "                return row['NextXShift2']\n",
    "    else:\n",
    "        return row['X Coordinate 2']\n",
    "    \n",
    "def fixDumpsY(row):\n",
    "    if row['Event'] == 'Dump In/Out':\n",
    "        if row['NextEvent'] == 'Puck Recovery':\n",
    "            if row['NextX'] < 75:\n",
    "                return (85 - row['NextY'])\n",
    "            else:\n",
    "                return row['NextY']\n",
    "        else:\n",
    "            if row['NextXShift2'] < 75:\n",
    "                return (85 - row['NextYShift2'])\n",
    "            else:\n",
    "                return row['NextYShift2']\n",
    "    else:\n",
    "        return row['Y Coordinate 2']\n",
    "\n",
    "def getDataReadySimple(df):\n",
    "    df = df.copy()\n",
    "    \n",
    "    df['NextEvent'] = df['Event'].shift(-1)\n",
    "    df['NextEvent2'] = df['Event'].shift(-2)\n",
    "    df['NextX'] = df['X Coordinate'].shift(-1)\n",
    "    df['NextY'] = df['Y Coordinate'].shift(-1)\n",
    "    df['NextXShift2'] = df['X Coordinate'].shift(-2)\n",
    "    df['NextYShift2'] = df['Y Coordinate'].shift(-2)\n",
    "    #filter out dumps that go to goalie\n",
    "    df = df.loc[((df['Event'] == 'Dump In/Out') & ((df['NextEvent'] == 'Puck Recovery') | (df['NextEvent2'] == 'Puck Recovery'))) | (df['Event'] != 'Dump In/Out')]\n",
    "    df['X Coordinate 2'] = df.apply(lambda row: fixDumpsX(row),axis=1)\n",
    "    df['Y Coordinate 2'] = df.apply(lambda row: fixDumpsY(row),axis=1)\n",
    "    df['isDump'] = df.apply(lambda row: 1 if (row['Event'] == 'Dump In/Out') else 0,axis=1)\n",
    "    df['isDumpRetained'] = df.apply(lambda row: (row['Detail 1'] == 'Retained'),axis=1)\n",
    "    \n",
    "    filteredDF = df.loc[(df['Event'] ==  'Play' ) | (df['Event'] == 'Incomplete Play') | (df['Event'] == 'Dump In/Out')].copy() #only need these rows\n",
    "    filteredDF['TeamSkaters'] = filteredDF.apply(lambda row: row['Home Team Skaters'] if (row['Team'] == row['Home Team']) else row['Away Team Skaters'],axis=1)\n",
    "    filteredDF['OppSkaters'] = filteredDF.apply(lambda row: row['Home Team Skaters'] if (row['Team'] == row['Away Team']) else row['Away Team Skaters'],axis=1)\n",
    "    filteredDF['onPP'] = filteredDF.apply(lambda row: row['TeamSkaters'] > row['OppSkaters'],axis=1)\n",
    "    filteredDF['onPK'] = filteredDF.apply(lambda row: row['TeamSkaters'] < row['OppSkaters'],axis=1)\n",
    "    filteredDF['AmountExtraSkaters'] = filteredDF.apply(lambda row: row['TeamSkaters'] - row['OppSkaters'],axis=1)\n",
    "    filteredDF['CompletePass'] = filteredDF.apply(lambda row: 1 if (row['Event'] == 'Play') else 0,axis=1)\n",
    "    filteredDF['CompletePass'] = filteredDF.apply(lambda row: 1 if ((row['isDump'] == 1) & row['isDumpRetained'])\n",
    "                                                  else row['CompletePass'],axis=1)\n",
    "    filteredDF['passXTravel'] = filteredDF.apply(lambda row: row['X Coordinate 2'] - row['X Coordinate'],axis=1)\n",
    "    filteredDF['passYTravel'] = filteredDF.apply(lambda row: row['Y Coordinate 2'] - row['Y Coordinate'],axis=1)\n",
    "    filteredDF['TotalDistance'] = filteredDF.apply(lambda row: (row['passXTravel']**2 + row['passYTravel']**2)**0.5,axis=1)\n",
    "    #this is for simple model\n",
    "    filteredDF = filteredDF[['X Coordinate','Y Coordinate','X Coordinate 2','Y Coordinate 2','onPP','onPK','isDump',\n",
    "                           'passXTravel','passYTravel','TotalDistance','AmountExtraSkaters','CompletePass']]\n",
    "    X = filteredDF.iloc[:,:-1]\n",
    "    y = filteredDF.iloc[:,-1]\n",
    "    return X,y"
   ]
  },
  {
   "cell_type": "code",
   "execution_count": 108,
   "metadata": {},
   "outputs": [],
   "source": [
    "def getDataReadyComplex(df):\n",
    "    df = df.copy()\n",
    "    df['isFaceOff'] = df['Event'].apply(lambda row: row == 'Faceoff Win')\n",
    "    df['SecondsLeft'] = df['Clock'].apply(lambda row: float(row.split(':')[0]) * 60 + float(row.split(':')[1]))\n",
    "    df['ChangeInPoss'] = (df['Team'] != df['Team'].shift(1))\n",
    "    df['ChangeInPoss'] = df.apply(lambda row: True if (row['Event'] == 'Faceoff Win') else row['ChangeInPoss'],axis=1)\n",
    "    df = df.rename(columns={'ChangeInPoss':'PossStart'})\n",
    "    df['PossStartTime'] = df.apply(lambda row: row['SecondsLeft'] if row['PossStart'] else -1.0,axis=1)\n",
    "    for i in range(len(df)):\n",
    "        if df.loc[i,'PossStartTime'] == -1.0:\n",
    "            df.loc[i,'PossStartTime'] = df.loc[i-1,'PossStartTime']\n",
    "    df['PossTotalTime'] = df.apply(lambda row: row['PossStartTime'] - row['SecondsLeft'],axis=1)\n",
    "    df = df.drop(columns=['PossStart','PossStartTime']) #drop these cuz I don't think I need them\n",
    "    \n",
    "    df['NextEvent'] = df['Event'].shift(-1)\n",
    "    df['NextEvent2'] = df['Event'].shift(-2)\n",
    "    df['NextX'] = df['X Coordinate'].shift(-1)\n",
    "    df['NextY'] = df['Y Coordinate'].shift(-1)\n",
    "    df['NextXShift2'] = df['X Coordinate'].shift(-2)\n",
    "    df['NextYShift2'] = df['Y Coordinate'].shift(-2)\n",
    "    #filter out dumps that go to goalie\n",
    "    df = df.loc[((df['Event'] == 'Dump In/Out') & ((df['NextEvent'] == 'Puck Recovery') | (df['NextEvent2'] == 'Puck Recovery'))) | (df['Event'] != 'Dump In/Out')]\n",
    "    df['X Coordinate 2'] = df.apply(lambda row: fixDumpsX(row),axis=1)\n",
    "    df['Y Coordinate 2'] = df.apply(lambda row: fixDumpsY(row),axis=1)\n",
    "    df['isDump'] = df.apply(lambda row: 1 if (row['Event'] == 'Dump In/Out') else 0,axis=1)\n",
    "    df['isDumpRetained'] = df.apply(lambda row: (row['Detail 1'] == 'Retained'),axis=1)\n",
    "    \n",
    "    filteredDF = df.loc[(df['Event'] ==  'Play' ) | (df['Event'] == 'Incomplete Play') | (df['Event'] == 'Dump In/Out')].copy() #only need these rows\n",
    "    filteredDF['TeamSkaters'] = filteredDF.apply(lambda row: row['Home Team Skaters'] if (row['Team'] == row['Home Team']) else row['Away Team Skaters'],axis=1)\n",
    "    filteredDF['OppSkaters'] = filteredDF.apply(lambda row: row['Home Team Skaters'] if (row['Team'] == row['Away Team']) else row['Away Team Skaters'],axis=1)\n",
    "    filteredDF['onPP'] = filteredDF.apply(lambda row: row['TeamSkaters'] > row['OppSkaters'],axis=1)\n",
    "    filteredDF['onPK'] = filteredDF.apply(lambda row: row['TeamSkaters'] < row['OppSkaters'],axis=1)\n",
    "    filteredDF['AmountExtraSkaters'] = filteredDF.apply(lambda row: row['TeamSkaters'] - row['OppSkaters'],axis=1)\n",
    "    filteredDF['CompletePass'] = filteredDF.apply(lambda row: 1 if (row['Event'] == 'Play') else 0,axis=1)\n",
    "    filteredDF['CompletePass'] = filteredDF.apply(lambda row: 1 if ((row['isDump'] == 1) & row['isDumpRetained'])\n",
    "                                                  else row['CompletePass'],axis=1)\n",
    "    filteredDF['DirectPass'] = filteredDF.apply(lambda row: 1 if (row['Detail 1'] == 'Direct') else 0,axis=1)\n",
    "    filteredDF['passXTravel'] = filteredDF.apply(lambda row: row['X Coordinate 2'] - row['X Coordinate'],axis=1)\n",
    "    filteredDF['passYTravel'] = filteredDF.apply(lambda row: row['Y Coordinate 2'] - row['Y Coordinate'],axis=1)\n",
    "    filteredDF['TotalDistance'] = filteredDF.apply(lambda row: (row['passXTravel']**2 + row['passYTravel']**2)**0.5,axis=1)\n",
    "    filteredDF['passAngle'] = filteredDF.apply(lambda row: math.atan2(row['passYTravel'],row['passXTravel']),axis=1)\n",
    "    filteredDF['GoalsDown'] = filteredDF.apply(lambda row: (row['Home Team Goals'] - row['Away Team Goals'])\n",
    "                                              if (row['Team'] == row['Away Team Goals'])\n",
    "                                              else (row['Away Team Goals'] - row['Home Team Goals']),axis=1)\n",
    "    #this is for complex model\n",
    "    filteredDF = filteredDF[['Period','SecondsLeft','PossTotalTime','TeamSkaters','OppSkaters','DirectPass','X Coordinate',\n",
    "                      'Y Coordinate','X Coordinate 2','Y Coordinate 2','passXTravel','passYTravel','TotalDistance','isDump',\n",
    "                      'passAngle','GoalsDown','onPP','onPK','AmountExtraSkaters','CompletePass']]\n",
    "    \n",
    "    X = filteredDF.iloc[:,:-1]\n",
    "    y = filteredDF.iloc[:,-1]\n",
    "    return X,y"
   ]
  },
  {
   "cell_type": "markdown",
   "metadata": {},
   "source": [
    "# Make the complex model"
   ]
  },
  {
   "cell_type": "code",
   "execution_count": 80,
   "metadata": {},
   "outputs": [],
   "source": [
    "X,y = getDataReadyComplex(dataScout)"
   ]
  },
  {
   "cell_type": "code",
   "execution_count": 81,
   "metadata": {},
   "outputs": [
    {
     "name": "stdout",
     "output_type": "stream",
     "text": [
      "Overall Mean: 0.6538769197952219\n",
      "XGBoost mean vs actual mean:\n",
      "0.6550697096231721\n",
      "0.6478242320819113\n",
      "Log loss error is: 0.5513913499278937\n",
      "Root Mean Squared error is: 0.43005580640348284\n",
      "Root Mean Squared Log error is: 0.09111815417155777\n"
     ]
    }
   ],
   "source": [
    "print(\"Overall Mean:\", y.mean())\n",
    "#get train/test split ready\n",
    "\n",
    "Xtrain, Xtest, ytrain, ytest = train_test_split(X,y,test_size=0.25,random_state=24) #can add shuffle=False to not shuffle\n",
    "\n",
    "#train the xgboost model\n",
    "dtrain = xgb.DMatrix(Xtrain,label=ytrain)\n",
    "\n",
    "# XGBoost model\n",
    "nrounds = 560 #use gridSearchCV\n",
    "params = {\n",
    "    'objective': 'binary:logistic',\n",
    "    'booster' : 'gblinear', #gblinear/gbtree?\n",
    "    'eval_metric' : ['logloss'],\n",
    "    'eta' : 0.1,\n",
    "    'gamma' : 3,\n",
    "    'subsample' : 0.8,\n",
    "    'colsample_bytree' : 0.8,\n",
    "    'max_depth': 6,\n",
    "    'min_child_weight' : 6,\n",
    "    'base_score' : ytrain.mean()\n",
    "}\n",
    "\n",
    "xcp_model = xgb.train(params, dtrain, num_boost_round=nrounds, verbose_eval=2)\n",
    "# save for debug\n",
    "xcp_model.save_model('xCPwithDumpIn_complex.json')\n",
    "\n",
    "#test the model\n",
    "dtest = xgb.DMatrix(Xtest,label=ytest)\n",
    "xgb_predictions = xcp_model.predict(dtest).tolist()\n",
    "print(\"XGBoost mean vs actual mean:\")\n",
    "# print(xgb_predictions)\n",
    "XtestCopy = Xtest.copy()\n",
    "XtestCopy['xCP'] = xgb_predictions\n",
    "print(XtestCopy['xCP'].mean())\n",
    "print(ytest.mean())\n",
    "\n",
    "#now let's get the errors\n",
    "#xGList = pd.concat([XtestxGCopy['xG'],ytestxG],axis=1,keys=['xG','Goal'])\n",
    "#xGList = xGList.sort_values(by=['xG'])\n",
    "LLerror = log_loss(ytest,xgb_predictions)\n",
    "RMSerror = mean_squared_error(ytest,xgb_predictions,squared=False)\n",
    "RMSLerror = mean_squared_log_error(ytest,xgb_predictions)\n",
    "print(\"Log loss error is:\",LLerror)\n",
    "print(\"Root Mean Squared error is:\",RMSerror)\n",
    "print(\"Root Mean Squared Log error is:\",RMSLerror)"
   ]
  },
  {
   "cell_type": "markdown",
   "metadata": {},
   "source": [
    "# Make the simple model"
   ]
  },
  {
   "cell_type": "code",
   "execution_count": 100,
   "metadata": {},
   "outputs": [],
   "source": [
    "Xsmall,ysmall = getDataReadySimple(dataScout)"
   ]
  },
  {
   "cell_type": "code",
   "execution_count": 101,
   "metadata": {},
   "outputs": [],
   "source": [
    "XsmallAug = Xsmall.copy()\n",
    "XsmallAug['Y Coordinate'] = XsmallAug.apply(lambda row: 85 - row['Y Coordinate'],axis=1)\n",
    "XsmallAug['Y Coordinate 2'] = XsmallAug.apply(lambda row: 85 - row['Y Coordinate 2'],axis=1)"
   ]
  },
  {
   "cell_type": "code",
   "execution_count": 106,
   "metadata": {},
   "outputs": [],
   "source": [
    "XsmallConcat = pd.concat([Xsmall,XsmallAug])\n",
    "ysmallConcat = pd.concat([ysmall,ysmall])"
   ]
  },
  {
   "cell_type": "code",
   "execution_count": 107,
   "metadata": {},
   "outputs": [
    {
     "name": "stdout",
     "output_type": "stream",
     "text": [
      "Overall Mean: 0.6538769197952219\n",
      "XGBoost mean vs actual mean:\n",
      "0.6565045413726849\n",
      "0.6560900170648464\n",
      "Log loss error is: 0.5518996322444023\n",
      "Root Mean Squared error is: 0.43016933548528424\n",
      "Root Mean Squared Log error is: 0.09065922346186557\n"
     ]
    }
   ],
   "source": [
    "print(\"Overall Mean:\", ysmall.mean())\n",
    "#get train/test split ready\n",
    "\n",
    "Xtrainsmall, Xtestsmall, ytrainsmall, ytestsmall = train_test_split(XsmallConcat,ysmallConcat,test_size=0.25,random_state=24) #can add shuffle=False to not shuffle\n",
    "\n",
    "#train the xgboost model\n",
    "dtrain = xgb.DMatrix(Xtrainsmall,label=ytrainsmall)\n",
    "\n",
    "# XGBoost model\n",
    "nrounds = 560 #use gridSearchCV\n",
    "params = {\n",
    "    'objective': 'binary:logistic',\n",
    "    'booster' : 'gblinear', #gblinear/gbtree?\n",
    "    'eval_metric' : ['logloss'],\n",
    "    'eta' : 0.1,\n",
    "    'gamma' : 3,\n",
    "    'subsample' : 0.8,\n",
    "    'colsample_bytree' : 0.8,\n",
    "    'max_depth': 6,\n",
    "    'min_child_weight' : 6,\n",
    "    'base_score' : ytrainsmall.mean()\n",
    "}\n",
    "\n",
    "xcpSmall_model = xgb.train(params, dtrain, num_boost_round=nrounds, verbose_eval=2)\n",
    "# save for debug\n",
    "#xcpSmall_model.dump_model('xCPSmall_dump.json', with_stats=True, dump_format='json')\n",
    "xcpSmall_model.save_model('xCPwithDumpInAug_simple.json')\n",
    "\n",
    "#test the model\n",
    "dtest = xgb.DMatrix(Xtestsmall,label=ytestsmall)\n",
    "xgb_predictionssmall = xcpSmall_model.predict(dtest).tolist()\n",
    "print(\"XGBoost mean vs actual mean:\")\n",
    "# print(xgb_predictions)\n",
    "XtestCopysmall = Xtestsmall.copy()\n",
    "XtestCopysmall['xCP'] = xgb_predictionssmall\n",
    "print(XtestCopysmall['xCP'].mean())\n",
    "print(ytestsmall.mean())\n",
    "\n",
    "#now let's get the errors\n",
    "xCPListsmall = pd.concat([XtestCopysmall['xCP'],ytestsmall],axis=1,keys=['xCP','CompletePass'])\n",
    "xCPListsmall = xCPListsmall.sort_values(by=['xCP'])\n",
    "LLerror = log_loss(ytestsmall,xgb_predictionssmall)\n",
    "RMSerror = mean_squared_error(ytestsmall,xgb_predictionssmall,squared=False)\n",
    "RMSLerror = mean_squared_log_error(ytestsmall,xgb_predictionssmall)\n",
    "print(\"Log loss error is:\",LLerror)\n",
    "print(\"Root Mean Squared error is:\",RMSerror)\n",
    "print(\"Root Mean Squared Log error is:\",RMSLerror)"
   ]
  },
  {
   "cell_type": "code",
   "execution_count": 89,
   "metadata": {},
   "outputs": [
    {
     "name": "stdout",
     "output_type": "stream",
     "text": [
      "Root Mean Squared Log error is: 5.1513656428825386e-05\n"
     ]
    },
    {
     "data": {
      "image/png": "[encoded data removed]",
      "text/plain": [
       "<Figure size 432x288 with 1 Axes>"
      ]
     },
     "metadata": {
      "needs_background": "light"
     },
     "output_type": "display_data"
    }
   ],
   "source": [
    "#now let's see how different these two models are\n",
    "RMSLerror2 =  np.square(np.subtract(xCPListsmall['xCP'].tolist(),xCPList['xCP'].tolist())).mean() #mean_squared_log_error(smallxGList['Goal'].tolist(),smallxGList['xG'].tolist())\n",
    "print(\"Root Mean Squared Log error is:\",RMSLerror2)\n",
    "plt.figure()\n",
    "plt.plot(xCPListsmall['xCP'].tolist(),xCPList['xCP'].tolist(),label='Model Predictions')\n",
    "plt.plot([0,1],[0,1],label='Line: y=x',alpha = 0.7)\n",
    "plt.title('xCP Models Output on test dataset')\n",
    "plt.xlabel('Less Features')\n",
    "plt.ylabel('More Features')\n",
    "plt.legend()\n",
    "plt.show()"
   ]
  },
  {
   "cell_type": "markdown",
   "metadata": {},
   "source": [
    "# Chart the results to visualize our xCP predictions"
   ]
  },
  {
   "cell_type": "code",
   "execution_count": 83,
   "metadata": {},
   "outputs": [
    {
     "data": {
      "image/png": "[encoded data removed]",
      "text/plain": [
       "<Figure size 432x288 with 1 Axes>"
      ]
     },
     "metadata": {
      "needs_background": "light"
     },
     "output_type": "display_data"
    }
   ],
   "source": [
    "#now let's chart the results\n",
    "xCPList = pd.concat([XtestCopy['xCP'],ytest],axis=1,keys=['xCP','CompletePass'])\n",
    "\n",
    "xCPList = xCPList.sort_values(by=['xCP'])\n",
    "indexList = np.arange(len(xCPList))\n",
    "[xCPbin_means,CPbin_means], bin_edges, binnumber = stats.binned_statistic(indexList,[xCPList['xCP'], xCPList['CompletePass']],statistic='mean', bins=100)\n",
    "plt.figure()\n",
    "#plt.hlines(bin_means, bin_edges[:-1], bin_edges[1:], colors='g', lw=2,label='binned statistic of data')\n",
    "plt.plot(xCPbin_means,CPbin_means,marker='o',linestyle='none')\n",
    "x = np.linspace(0,1,num=100)\n",
    "plt.plot(x,x,color='green',marker='o',linestyle='none')\n",
    "plt.xlabel('xCP')\n",
    "plt.ylabel('Actual CP')\n",
    "plt.title('100 bins based on xCP')\n",
    "plt.show()"
   ]
  },
  {
   "cell_type": "code",
   "execution_count": 13,
   "metadata": {},
   "outputs": [
    {
     "data": {
      "image/png": "[encoded data removed]",
      "text/plain": [
       "<Figure size 432x288 with 1 Axes>"
      ]
     },
     "metadata": {
      "needs_background": "light"
     },
     "output_type": "display_data"
    }
   ],
   "source": [
    "plt.figure()\n",
    "plt.plot(xCPbin_means,np.subtract(xCPbin_means,CPbin_means),marker='o',linestyle='none')\n",
    "plt.plot(np.linspace(0,1,num=100),np.zeros(100),color='green')\n",
    "plt.xlabel('xCP')\n",
    "plt.ylabel('difference with actual CP for bin')\n",
    "plt.title('100 bins based on xCP')\n",
    "plt.show()"
   ]
  },
  {
   "cell_type": "code",
   "execution_count": 14,
   "metadata": {},
   "outputs": [
    {
     "name": "stdout",
     "output_type": "stream",
     "text": [
      "average error is: 0.05462574426191322\n"
     ]
    }
   ],
   "source": [
    "binError = np.subtract(xCPbin_means,CPbin_means)\n",
    "binError = [abs(ele) for ele in binError]\n",
    "print(\"average error is:\",sum(binError)/len(binError))"
   ]
  },
  {
   "cell_type": "markdown",
   "metadata": {},
   "source": [
    "# Obtain CPOE and RPOE for Otters players"
   ]
  },
  {
   "cell_type": "code",
   "execution_count": 15,
   "metadata": {},
   "outputs": [],
   "source": [
    "def getCPOEandRPOE(df,xCPdf):\n",
    "    df = df.copy()\n",
    "    df = df.loc[(df['Event'] ==  'Play' ) | (df['Event'] == 'Incomplete Play')]\n",
    "    df = df[['Player','Player 2','Event']]\n",
    "    df['CompletePass'] = df.apply(lambda row: 1 if (row['Event'] == 'Play') else 0,axis=1)\n",
    "    df['IncompletePass'] = df.apply(lambda row: 1 if (row['Event'] == 'Incomplete Play') else 0,axis=1)\n",
    "    df = df.drop(columns=['Event'])\n",
    "    xCPdf = xCPdf.copy()\n",
    "    xCPdf = xCPdf[['xCP']]\n",
    "    merged = xCPdf.merge(df,how='left',left_index=True,right_index=True)\n",
    "    getCPOE = merged.drop(columns=['Player 2'])\n",
    "    getRPOE = merged.drop(columns=['Player'])\n",
    "    CPOE = getCPOE.groupby(by=['Player']).mean()\n",
    "    CPOE['CPOE'] = CPOE.apply(lambda row: row['CompletePass'] - row['xCP'],axis=1)\n",
    "    CPOEhelper = getCPOE.groupby(by=['Player']).sum()\n",
    "    CPOEhelper['TotalPassesThrown'] = CPOEhelper.apply(lambda row: row['CompletePass'] + row['IncompletePass'],axis=1)\n",
    "    CPOEhelper = CPOEhelper[['TotalPassesThrown']]\n",
    "    CPOE = CPOE.merge(CPOEhelper,how='left',left_index=True,right_index=True)\n",
    "    CPOE = CPOE[['CPOE','TotalPassesThrown']] #if you want to see xCP and CompPercentage comment this out\n",
    "    RPOE = getRPOE.groupby(by=['Player 2']).mean()\n",
    "    RPOE['RPOE'] = RPOE.apply(lambda row: row['CompletePass'] - row['xCP'],axis=1)\n",
    "    RPOEhelper = getRPOE.groupby(by=['Player 2']).sum()\n",
    "    RPOEhelper['TotalPassesReceived'] = RPOEhelper.apply(lambda row: row['CompletePass'] + row['IncompletePass'],axis=1)\n",
    "    RPOEhelper = RPOEhelper[['TotalPassesReceived']]\n",
    "    RPOE = RPOE.merge(RPOEhelper,how='left',left_index=True,right_index=True)\n",
    "    RPOE = RPOE[['RPOE','TotalPassesReceived']] #if you want to see xCP and CompPercentage comment this out\n",
    "    bothDF = CPOE.merge(RPOE,how='outer',left_index=True,right_index=True)\n",
    "    return bothDF"
   ]
  },
  {
   "cell_type": "code",
   "execution_count": 16,
   "metadata": {},
   "outputs": [],
   "source": [
    "bothTest = getCPOEandRPOE(dataScout,XtestCopy)"
   ]
  },
  {
   "cell_type": "code",
   "execution_count": 110,
   "metadata": {},
   "outputs": [
    {
     "data": {
      "text/html": [
       "<div>\n",
       "<style scoped>\n",
       "    .dataframe tbody tr th:only-of-type {\n",
       "        vertical-align: middle;\n",
       "    }\n",
       "\n",
       "    .dataframe tbody tr th {\n",
       "        vertical-align: top;\n",
       "    }\n",
       "\n",
       "    .dataframe thead th {\n",
       "        text-align: right;\n",
       "    }\n",
       "</style>\n",
       "<table border=\"1\" class=\"dataframe\">\n",
       "  <thead>\n",
       "    <tr style=\"text-align: right;\">\n",
       "      <th></th>\n",
       "      <th>CPOE</th>\n",
       "      <th>TotalPassesThrown</th>\n",
       "      <th>RPOE</th>\n",
       "      <th>TotalPassesReceived</th>\n",
       "    </tr>\n",
       "  </thead>\n",
       "  <tbody>\n",
       "    <tr>\n",
       "      <th>Jacob Golden</th>\n",
       "      <td>0.056779</td>\n",
       "      <td>248.0</td>\n",
       "      <td>0.104562</td>\n",
       "      <td>173.0</td>\n",
       "    </tr>\n",
       "    <tr>\n",
       "      <th>Jamie Drysdale</th>\n",
       "      <td>0.079230</td>\n",
       "      <td>320.0</td>\n",
       "      <td>0.100134</td>\n",
       "      <td>279.0</td>\n",
       "    </tr>\n",
       "    <tr>\n",
       "      <th>Drew Hunter</th>\n",
       "      <td>0.056829</td>\n",
       "      <td>237.0</td>\n",
       "      <td>0.081783</td>\n",
       "      <td>156.0</td>\n",
       "    </tr>\n",
       "    <tr>\n",
       "      <th>Kurtis Henry</th>\n",
       "      <td>0.010434</td>\n",
       "      <td>276.0</td>\n",
       "      <td>0.081143</td>\n",
       "      <td>183.0</td>\n",
       "    </tr>\n",
       "    <tr>\n",
       "      <th>Jack Duff</th>\n",
       "      <td>-0.069372</td>\n",
       "      <td>260.0</td>\n",
       "      <td>0.074186</td>\n",
       "      <td>178.0</td>\n",
       "    </tr>\n",
       "    <tr>\n",
       "      <th>Austen Swankler</th>\n",
       "      <td>-0.042686</td>\n",
       "      <td>245.0</td>\n",
       "      <td>0.042857</td>\n",
       "      <td>269.0</td>\n",
       "    </tr>\n",
       "    <tr>\n",
       "      <th>Kyen Sopa</th>\n",
       "      <td>0.041957</td>\n",
       "      <td>98.0</td>\n",
       "      <td>0.029624</td>\n",
       "      <td>106.0</td>\n",
       "    </tr>\n",
       "    <tr>\n",
       "      <th>Maxim Golod</th>\n",
       "      <td>0.048588</td>\n",
       "      <td>336.0</td>\n",
       "      <td>0.027701</td>\n",
       "      <td>446.0</td>\n",
       "    </tr>\n",
       "    <tr>\n",
       "      <th>Emmett Sproule</th>\n",
       "      <td>-0.091596</td>\n",
       "      <td>199.0</td>\n",
       "      <td>0.009249</td>\n",
       "      <td>292.0</td>\n",
       "    </tr>\n",
       "    <tr>\n",
       "      <th>Hayden Fowler</th>\n",
       "      <td>-0.103459</td>\n",
       "      <td>228.0</td>\n",
       "      <td>-0.010442</td>\n",
       "      <td>281.0</td>\n",
       "    </tr>\n",
       "    <tr>\n",
       "      <th>Brendan Sellan</th>\n",
       "      <td>0.034632</td>\n",
       "      <td>194.0</td>\n",
       "      <td>-0.016239</td>\n",
       "      <td>230.0</td>\n",
       "    </tr>\n",
       "    <tr>\n",
       "      <th>Daniel D'Amato</th>\n",
       "      <td>-0.002353</td>\n",
       "      <td>173.0</td>\n",
       "      <td>-0.017370</td>\n",
       "      <td>226.0</td>\n",
       "    </tr>\n",
       "    <tr>\n",
       "      <th>Chad Yetman</th>\n",
       "      <td>0.038481</td>\n",
       "      <td>280.0</td>\n",
       "      <td>-0.018491</td>\n",
       "      <td>351.0</td>\n",
       "    </tr>\n",
       "    <tr>\n",
       "      <th>Brendan Hoffmann</th>\n",
       "      <td>0.029242</td>\n",
       "      <td>135.0</td>\n",
       "      <td>-0.028742</td>\n",
       "      <td>188.0</td>\n",
       "    </tr>\n",
       "    <tr>\n",
       "      <th>Elias Cohen</th>\n",
       "      <td>0.024370</td>\n",
       "      <td>126.0</td>\n",
       "      <td>-0.056282</td>\n",
       "      <td>127.0</td>\n",
       "    </tr>\n",
       "    <tr>\n",
       "      <th>Connor Lockhart</th>\n",
       "      <td>0.038806</td>\n",
       "      <td>155.0</td>\n",
       "      <td>-0.077364</td>\n",
       "      <td>191.0</td>\n",
       "    </tr>\n",
       "  </tbody>\n",
       "</table>\n",
       "</div>"
      ],
      "text/plain": [
       "                      CPOE  TotalPassesThrown      RPOE  TotalPassesReceived\n",
       "Jacob Golden      0.056779              248.0  0.104562                173.0\n",
       "Jamie Drysdale    0.079230              320.0  0.100134                279.0\n",
       "Drew Hunter       0.056829              237.0  0.081783                156.0\n",
       "Kurtis Henry      0.010434              276.0  0.081143                183.0\n",
       "Jack Duff        -0.069372              260.0  0.074186                178.0\n",
       "Austen Swankler  -0.042686              245.0  0.042857                269.0\n",
       "Kyen Sopa         0.041957               98.0  0.029624                106.0\n",
       "Maxim Golod       0.048588              336.0  0.027701                446.0\n",
       "Emmett Sproule   -0.091596              199.0  0.009249                292.0\n",
       "Hayden Fowler    -0.103459              228.0 -0.010442                281.0\n",
       "Brendan Sellan    0.034632              194.0 -0.016239                230.0\n",
       "Daniel D'Amato   -0.002353              173.0 -0.017370                226.0\n",
       "Chad Yetman       0.038481              280.0 -0.018491                351.0\n",
       "Brendan Hoffmann  0.029242              135.0 -0.028742                188.0\n",
       "Elias Cohen       0.024370              126.0 -0.056282                127.0\n",
       "Connor Lockhart   0.038806              155.0 -0.077364                191.0"
      ]
     },
     "execution_count": 110,
     "metadata": {},
     "output_type": "execute_result"
    }
   ],
   "source": [
    "bothTest.loc[bothTest['TotalPassesReceived'] > 100].sort_values(by='RPOE',ascending=False)"
   ]
  },
  {
   "cell_type": "markdown",
   "metadata": {},
   "source": [
    "# Some feature importance stuff I experimented with"
   ]
  },
  {
   "cell_type": "code",
   "execution_count": 29,
   "metadata": {},
   "outputs": [
    {
     "name": "stdout",
     "output_type": "stream",
     "text": [
      "[18:31:56] WARNING: src/objective/regression_obj.cu:152: reg:linear is now deprecated in favor of reg:squarederror.\n",
      "Feature:  Period , Score: 0.00819\n",
      "Feature:  SecondsLeft , Score: 0.01292\n",
      "Feature:  PossTotalTime , Score: 0.02553\n",
      "Feature:  TeamSkaters , Score: 0.02255\n",
      "Feature:  OppSkaters , Score: 0.34334\n",
      "Feature:  DirectPass , Score: 0.07089\n",
      "Feature:  X Coordinate , Score: 0.05535\n",
      "Feature:  Y Coordinate , Score: 0.03425\n",
      "Feature:  X Coordinate 2 , Score: 0.08952\n",
      "Feature:  Y Coordinate 2 , Score: 0.06857\n",
      "Feature:  passXTravel , Score: 0.12675\n",
      "Feature:  passYTravel , Score: 0.03528\n",
      "Feature:  TotalDistance , Score: 0.03698\n",
      "Feature:  passAngle , Score: 0.06366\n",
      "Feature:  GoalsDown , Score: 0.00622\n"
     ]
    },
    {
     "data": {
      "image/png": "[encoded data removed]",
      "text/plain": [
       "<Figure size 432x288 with 1 Axes>"
      ]
     },
     "metadata": {
      "needs_background": "light"
     },
     "output_type": "display_data"
    }
   ],
   "source": [
    "modelCols = X.columns\n",
    "tstmodel = xgb.XGBRegressor()\n",
    "tstmodel.fit(X,y)\n",
    "importance = tstmodel.feature_importances_\n",
    "# summarize feature importance\n",
    "for i,v in enumerate(importance):\n",
    "    print('Feature: ',modelCols[i], ', Score: %.5f'%v)\n",
    "# plot feature importance \n",
    "plt.bar([x for x in range(len(importance))], importance)\n",
    "plt.show()"
   ]
  },
  {
   "cell_type": "code",
   "execution_count": 49,
   "metadata": {},
   "outputs": [],
   "source": [
    "#this is just so I remember the code haha\n",
    "\n",
    "#this will load the model\n",
    "testLoadModel = xgb.train(params, dtrain, num_boost_round=nrounds, verbose_eval=2)\n",
    "testLoadModel.load_model('xCP_simple.json')"
   ]
  },
  {
   "cell_type": "code",
   "execution_count": null,
   "metadata": {},
   "outputs": [],
   "source": []
  }
 ],
 "metadata": {
  "kernelspec": {
   "display_name": "Python 3",
   "language": "python",
   "name": "python3"
  },
  "language_info": {
   "codemirror_mode": {
    "name": "ipython",
    "version": 3
   },
   "file_extension": ".py",
   "mimetype": "text/x-python",
   "name": "python",
   "nbconvert_exporter": "python",
   "pygments_lexer": "ipython3",
   "version": "3.7.6"
  }
 },
 "nbformat": 4,
 "nbformat_minor": 4
}
