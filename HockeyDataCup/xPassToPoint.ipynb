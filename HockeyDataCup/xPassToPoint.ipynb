{
 "cells": [
  {
   "cell_type": "code",
   "execution_count": 152,
   "metadata": {},
   "outputs": [],
   "source": [
    "#import some stuff\n",
    "import pandas as pd\n",
    "import numpy as np\n",
    "import matplotlib.pyplot as plt\n",
    "import math\n",
    "import os\n",
    "from tqdm import tqdm\n",
    "import glob\n",
    "import time\n",
    "import xgboost as xgb\n",
    "from sklearn.model_selection import train_test_split #use this?\n",
    "from scipy import stats\n",
    "from sklearn.metrics import log_loss, mean_squared_error, mean_squared_log_error\n",
    "from sklearn.model_selection import GridSearchCV\n",
    "from sklearn.utils import shuffle"
   ]
  },
  {
   "cell_type": "code",
   "execution_count": 2,
   "metadata": {},
   "outputs": [],
   "source": [
    "urlScout = 'https://raw.githubusercontent.com/bigdatacup/Big-Data-Cup-2021/main/hackathon_scouting.csv'\n",
    "urlWomen = 'https://raw.githubusercontent.com/bigdatacup/Big-Data-Cup-2021/main/hackathon_womens.csv'\n",
    "dataScout = pd.read_csv(urlScout)\n",
    "dataWomen = pd.read_csv(urlWomen)"
   ]
  },
  {
   "cell_type": "code",
   "execution_count": 3,
   "metadata": {},
   "outputs": [],
   "source": [
    "pd.set_option('display.max_columns', None)"
   ]
  },
  {
   "cell_type": "code",
   "execution_count": 4,
   "metadata": {},
   "outputs": [
    {
     "data": {
      "text/html": [
       "<div>\n",
       "<style scoped>\n",
       "    .dataframe tbody tr th:only-of-type {\n",
       "        vertical-align: middle;\n",
       "    }\n",
       "\n",
       "    .dataframe tbody tr th {\n",
       "        vertical-align: top;\n",
       "    }\n",
       "\n",
       "    .dataframe thead th {\n",
       "        text-align: right;\n",
       "    }\n",
       "</style>\n",
       "<table border=\"1\" class=\"dataframe\">\n",
       "  <thead>\n",
       "    <tr style=\"text-align: right;\">\n",
       "      <th></th>\n",
       "      <th>game_date</th>\n",
       "      <th>Home Team</th>\n",
       "      <th>Away Team</th>\n",
       "      <th>Period</th>\n",
       "      <th>Clock</th>\n",
       "      <th>Home Team Skaters</th>\n",
       "      <th>Away Team Skaters</th>\n",
       "      <th>Home Team Goals</th>\n",
       "      <th>Away Team Goals</th>\n",
       "      <th>Team</th>\n",
       "      <th>Player</th>\n",
       "      <th>Event</th>\n",
       "      <th>X Coordinate</th>\n",
       "      <th>Y Coordinate</th>\n",
       "      <th>Detail 1</th>\n",
       "      <th>Detail 2</th>\n",
       "      <th>Detail 3</th>\n",
       "      <th>Detail 4</th>\n",
       "      <th>Player 2</th>\n",
       "      <th>X Coordinate 2</th>\n",
       "      <th>Y Coordinate 2</th>\n",
       "    </tr>\n",
       "  </thead>\n",
       "  <tbody>\n",
       "    <tr>\n",
       "      <th>0</th>\n",
       "      <td>2019-09-20</td>\n",
       "      <td>Erie Otters</td>\n",
       "      <td>Sudbury Wolves</td>\n",
       "      <td>1</td>\n",
       "      <td>20:00</td>\n",
       "      <td>5</td>\n",
       "      <td>5</td>\n",
       "      <td>0</td>\n",
       "      <td>0</td>\n",
       "      <td>Sudbury Wolves</td>\n",
       "      <td>Blake Murray</td>\n",
       "      <td>Faceoff Win</td>\n",
       "      <td>100</td>\n",
       "      <td>43</td>\n",
       "      <td>Forehand</td>\n",
       "      <td>NaN</td>\n",
       "      <td>NaN</td>\n",
       "      <td>NaN</td>\n",
       "      <td>Connor Lockhart</td>\n",
       "      <td>NaN</td>\n",
       "      <td>NaN</td>\n",
       "    </tr>\n",
       "  </tbody>\n",
       "</table>\n",
       "</div>"
      ],
      "text/plain": [
       "    game_date    Home Team       Away Team  Period  Clock  Home Team Skaters  \\\n",
       "0  2019-09-20  Erie Otters  Sudbury Wolves       1  20:00                  5   \n",
       "\n",
       "   Away Team Skaters  Home Team Goals  Away Team Goals            Team  \\\n",
       "0                  5                0                0  Sudbury Wolves   \n",
       "\n",
       "         Player        Event  X Coordinate  Y Coordinate  Detail 1 Detail 2  \\\n",
       "0  Blake Murray  Faceoff Win           100            43  Forehand      NaN   \n",
       "\n",
       "  Detail 3 Detail 4         Player 2  X Coordinate 2  Y Coordinate 2  \n",
       "0      NaN      NaN  Connor Lockhart             NaN             NaN  "
      ]
     },
     "execution_count": 4,
     "metadata": {},
     "output_type": "execute_result"
    }
   ],
   "source": [
    "dataScout.head(1)"
   ]
  },
  {
   "cell_type": "code",
   "execution_count": 6,
   "metadata": {},
   "outputs": [],
   "source": [
    "#dataWomen.head(1)"
   ]
  },
  {
   "cell_type": "code",
   "execution_count": 259,
   "metadata": {},
   "outputs": [],
   "source": [
    "def fixDumpsX(row):\n",
    "    if row['Event'] == 'Dump In/Out':\n",
    "        if row['NextEvent'] == 'Puck Recovery':\n",
    "            if row['NextX'] < 75:\n",
    "                return (200 - row['NextX'])\n",
    "            else:\n",
    "                return row['NextX']\n",
    "        else:\n",
    "            if row['NextXShift2'] < 75:\n",
    "                return (200 - row['NextXShift2'])\n",
    "            else:\n",
    "                return row['NextXShift2']\n",
    "    else:\n",
    "        return row['X Coordinate 2']\n",
    "    \n",
    "def fixDumpsY(row):\n",
    "    if row['Event'] == 'Dump In/Out':\n",
    "        if row['NextEvent'] == 'Puck Recovery':\n",
    "            if row['NextX'] < 75:\n",
    "                return (85 - row['NextY'])\n",
    "            else:\n",
    "                return row['NextY']\n",
    "        else:\n",
    "            if row['NextXShift2'] < 75:\n",
    "                return (85 - row['NextYShift2'])\n",
    "            else:\n",
    "                return row['NextYShift2']\n",
    "    else:\n",
    "        return row['Y Coordinate 2']\n",
    "\n",
    "def getDataReady(df):\n",
    "    df = df.copy()\n",
    "    df['NextEvent'] = df['Event'].shift(-1)\n",
    "    df['NextEvent2'] = df['Event'].shift(-2)\n",
    "    df['NextX'] = df['X Coordinate'].shift(-1)\n",
    "    df['NextY'] = df['Y Coordinate'].shift(-1)\n",
    "    df['NextXShift2'] = df['X Coordinate'].shift(-2)\n",
    "    df['NextYShift2'] = df['Y Coordinate'].shift(-2)\n",
    "    #filter out dumps that go to goalie\n",
    "    df = df.loc[((df['Event'] == 'Dump In/Out') & ((df['NextEvent'] == 'Puck Recovery') | (df['NextEvent2'] == 'Puck Recovery'))) | (df['Event'] != 'Dump In/Out')]\n",
    "    df['X Coordinate 2'] = df.apply(lambda row: fixDumpsX(row),axis=1)\n",
    "    df['Y Coordinate 2'] = df.apply(lambda row: fixDumpsY(row),axis=1)\n",
    "    df['isDump'] = df.apply(lambda row: 1 if (row['Event'] == 'Dump In/Out') else 0,axis=1)\n",
    "    df['isDumpRetained'] = df.apply(lambda row: (row['Detail 1'] == 'Retained'),axis=1)\n",
    "    \n",
    "    filteredDF = df.loc[(df['Event'] ==  'Play' ) | (df['Event'] == 'Incomplete Play') | (df['Event'] == 'Dump In/Out')].copy() #only need these rows\n",
    "    filteredDF['TeamSkaters'] = filteredDF.apply(lambda row: row['Home Team Skaters'] if (row['Team'] == row['Home Team']) else row['Away Team Skaters'],axis=1)\n",
    "    filteredDF['OppSkaters'] = filteredDF.apply(lambda row: row['Home Team Skaters'] if (row['Team'] == row['Away Team']) else row['Away Team Skaters'],axis=1)\n",
    "    filteredDF['onPP'] = filteredDF.apply(lambda row: 1*((row['TeamSkaters'] > row['OppSkaters']) & (row['OppSkaters'] < 5)),axis=1)\n",
    "    filteredDF['onPK'] = filteredDF.apply(lambda row: 1*((row['TeamSkaters'] < row['OppSkaters']) & (row['TeamSkaters'] < 5)),axis=1)\n",
    "    filteredDF['AmountExtraSkaters'] = filteredDF.apply(lambda row: row['TeamSkaters'] - row['OppSkaters'],axis=1)\n",
    "    filteredDF['CompletePass'] = filteredDF.apply(lambda row: 1 if (row['Event'] == 'Play') else 0,axis=1)\n",
    "    filteredDF['CompletePass'] = filteredDF.apply(lambda row: 1 if ((row['isDump'] == 1) & row['isDumpRetained'])\n",
    "                                                  else row['CompletePass'],axis=1)\n",
    "    filteredDF['passXTravel'] = filteredDF.apply(lambda row: row['X Coordinate 2'] - row['X Coordinate'],axis=1)\n",
    "    filteredDF['passYTravel'] = filteredDF.apply(lambda row: row['Y Coordinate 2'] - row['Y Coordinate'],axis=1)\n",
    "    filteredDF['TotalDistance'] = filteredDF.apply(lambda row: (row['passXTravel']**2 + row['passYTravel']**2)**0.5,axis=1)\n",
    "    filteredDF['isPassOrDump'] = filteredDF.apply(lambda row: 1,axis=1)\n",
    "    \n",
    "    #this is important for when I'm only using 1/25 the points to simplify the model\n",
    "    filteredDF['X Coordinate 2'] = filteredDF.apply(lambda row: row['X Coordinate 2'] - (row['X Coordinate 2'] % 5),axis=1)\n",
    "    filteredDF['Y Coordinate 2'] = filteredDF.apply(lambda row: row['Y Coordinate 2'] - (row['Y Coordinate 2'] % 5),axis=1)\n",
    "    \n",
    "    #this is for simple model\n",
    "    #maybe only need first line + label?\n",
    "    filteredDF = filteredDF[['X Coordinate','Y Coordinate','X Coordinate 2','Y Coordinate 2','onPP','onPK',\n",
    "                             'isDump','passXTravel','passYTravel','TotalDistance','AmountExtraSkaters','isPassOrDump']]\n",
    "    X = filteredDF.iloc[:,:-1]\n",
    "    y = filteredDF.iloc[:,-1]\n",
    "    return X,y"
   ]
  },
  {
   "cell_type": "code",
   "execution_count": 260,
   "metadata": {},
   "outputs": [],
   "source": [
    "X,y = getDataReady(dataScout)"
   ]
  },
  {
   "cell_type": "code",
   "execution_count": 261,
   "metadata": {},
   "outputs": [],
   "source": [
    "def getDist(x1,x2):\n",
    "    return (x2-x1)\n",
    "def get2dDist(xdist,ydist):\n",
    "    return (xdist**2 + ydist**2)**0.5\n",
    "def getAllCombos(df):\n",
    "    df = df.copy()\n",
    "    #df = df[0:1000] #this is just to make it smaller for testing\n",
    "    tempList = []\n",
    "    for i in range(len(df)):\n",
    "        for x in range(26,40):\n",
    "            x = x*5\n",
    "            for y in range(17):\n",
    "                y = y*5\n",
    "                row = df.iloc[i]\n",
    "                xdist = getDist(row['X Coordinate'],x)\n",
    "                ydist = getDist(row['Y Coordinate'],y)\n",
    "                tempList.append([row['X Coordinate'],row['Y Coordinate'],x,y,row['onPP'],row['onPK'],row['isDump'],\n",
    "                                 xdist,ydist,get2dDist(xdist,ydist),row['AmountExtraSkaters'],0])\n",
    "    tempDF = pd.DataFrame(tempList,columns=['X Coordinate','Y Coordinate','X Coordinate 2','Y Coordinate 2','onPP','onPK',\n",
    "                                            'isDump','passXTravel','passYTravel','TotalDistance','AmountExtraSkaters','isPassOrDump'])\n",
    "    \n",
    "    return tempDF"
   ]
  },
  {
   "cell_type": "code",
   "execution_count": 262,
   "metadata": {},
   "outputs": [
    {
     "name": "stdout",
     "output_type": "stream",
     "text": [
      "Wall time: 2h 10min 58s\n"
     ]
    }
   ],
   "source": [
    "%%time \n",
    "allcombos = getAllCombos(X)"
   ]
  },
  {
   "cell_type": "markdown",
   "metadata": {},
   "source": [
    "# Make the model"
   ]
  },
  {
   "cell_type": "code",
   "execution_count": 263,
   "metadata": {},
   "outputs": [],
   "source": [
    "xAllCombos = allcombos.iloc[:,:-1]\n",
    "yAllCombos = allcombos.iloc[:,-1]"
   ]
  },
  {
   "cell_type": "code",
   "execution_count": 264,
   "metadata": {},
   "outputs": [],
   "source": [
    "concatX = pd.concat([xAllCombos,X])\n",
    "concaty = pd.concat([yAllCombos,y])"
   ]
  },
  {
   "cell_type": "code",
   "execution_count": 269,
   "metadata": {},
   "outputs": [],
   "source": [
    "Xaug = concatX.copy()\n",
    "Xaug['Y Coordinate'] = Xaug.apply(lambda row: 85 - row['Y Coordinate'],axis=1)\n",
    "Xaug['Y Coordinate 2'] = Xaug.apply(lambda row: 85 - row['Y Coordinate 2'],axis=1)"
   ]
  },
  {
   "cell_type": "code",
   "execution_count": 270,
   "metadata": {},
   "outputs": [],
   "source": [
    "concatX2 = pd.concat([concatX,Xaug])\n",
    "concaty2 = pd.concat([concaty,concaty])"
   ]
  },
  {
   "cell_type": "code",
   "execution_count": 273,
   "metadata": {},
   "outputs": [],
   "source": [
    "#print(\"Overall Mean:\", concaty.mean())\n",
    "#get train/test split ready\n",
    "\n",
    "Xtrain, Xtest, ytrain, ytest = train_test_split(concatX2,concaty2,test_size=0.25,random_state=8) #can add shuffle=False to not shuffle"
   ]
  },
  {
   "cell_type": "code",
   "execution_count": 274,
   "metadata": {},
   "outputs": [
    {
     "name": "stdout",
     "output_type": "stream",
     "text": [
      "train Mean: 0.00419414118839876\n",
      "test Mean: 0.004153978108443886\n"
     ]
    }
   ],
   "source": [
    "print(\"train Mean:\", ytrain.mean())\n",
    "print(\"test Mean:\", ytest.mean())\n"
   ]
  },
  {
   "cell_type": "code",
   "execution_count": 275,
   "metadata": {},
   "outputs": [],
   "source": [
    "#train the xgboost model\n",
    "dtrain = xgb.DMatrix(Xtrain,label=ytrain)\n",
    "\n",
    "# XGBoost model\n",
    "nrounds = 560 #use gridSearchCV\n",
    "params = {\n",
    "    'objective': 'binary:logistic',\n",
    "    'booster' : 'gblinear', #gblinear/gbtree?\n",
    "    'eval_metric' : ['logloss'],\n",
    "    'eta' : 0.1,\n",
    "    'gamma' : 3,\n",
    "    'subsample' : 0.8,\n",
    "    'colsample_bytree' : 0.8,\n",
    "    'max_depth': 6,\n",
    "    'min_child_weight' : 6,\n",
    "    'base_score' : ytrain.mean()\n",
    "}\n",
    "\n",
    "xcp_model = xgb.train(params, dtrain, num_boost_round=nrounds, verbose_eval=2)\n",
    "# save for debug\n",
    "xcp_model.save_model('xPassToPointNEWAug.json')"
   ]
  },
  {
   "cell_type": "code",
   "execution_count": 276,
   "metadata": {},
   "outputs": [
    {
     "name": "stdout",
     "output_type": "stream",
     "text": [
      "XGBoost mean vs actual mean:\n",
      "0.003941117108354328\n",
      "0.004153978108443886\n",
      "Log loss error is: 0.018164547790558958\n",
      "Root Mean Squared error is: 0.054916255722872204\n",
      "Root Mean Squared Log error is: 0.0014073674666141003\n"
     ]
    }
   ],
   "source": [
    "#test the model\n",
    "dtest = xgb.DMatrix(Xtest,label=ytest)\n",
    "xgb_predictions = xcp_model.predict(dtest).tolist()\n",
    "print(\"XGBoost mean vs actual mean:\")\n",
    "# print(xgb_predictions)\n",
    "XtestCopy = Xtest.copy()\n",
    "XtestCopy['xPassToPoint'] = xgb_predictions\n",
    "print(XtestCopy['xPassToPoint'].mean())\n",
    "print(ytest.mean())\n",
    "\n",
    "#now let's get the errors\n",
    "#xGList = pd.concat([XtestxGCopy['xG'],ytestxG],axis=1,keys=['xG','Goal'])\n",
    "#xGList = xGList.sort_values(by=['xG'])\n",
    "LLerror = log_loss(ytest,xgb_predictions)\n",
    "RMSerror = mean_squared_error(ytest,xgb_predictions,squared=False)\n",
    "RMSLerror = mean_squared_log_error(ytest,xgb_predictions)\n",
    "print(\"Log loss error is:\",LLerror)\n",
    "print(\"Root Mean Squared error is:\",RMSerror)\n",
    "print(\"Root Mean Squared Log error is:\",RMSLerror)"
   ]
  },
  {
   "cell_type": "code",
   "execution_count": 280,
   "metadata": {},
   "outputs": [],
   "source": [
    "#test the model\n",
    "dtest2 = xgb.DMatrix(concatX[0:100000])\n",
    "xgb_predictions2 = xcp_model.predict(dtest2).tolist()\n",
    "XtestCopy2 = concatX[0:100000].copy()\n",
    "XtestCopy2['xPassToPoint'] = xgb_predictions2"
   ]
  },
  {
   "cell_type": "markdown",
   "metadata": {},
   "source": [
    "# Look at results"
   ]
  },
  {
   "cell_type": "code",
   "execution_count": 281,
   "metadata": {},
   "outputs": [],
   "source": [
    "testerdf = XtestCopy2.loc[(XtestCopy2['AmountExtraSkaters'] == 0) & (XtestCopy2['isDump'] == 0)].copy()"
   ]
  },
  {
   "cell_type": "code",
   "execution_count": 294,
   "metadata": {},
   "outputs": [],
   "source": [
    "#choose some coordinates to look at \n",
    "testerdf2 = testerdf.loc[(testerdf['X Coordinate'] == 115)]\n",
    "testerdf2 = testerdf2.loc[(testerdf2['Y Coordinate'] == 44)]"
   ]
  },
  {
   "cell_type": "code",
   "execution_count": 295,
   "metadata": {},
   "outputs": [
    {
     "data": {
      "image/png": "[encoded data removed]",
      "text/plain": [
       "<Figure size 432x288 with 2 Axes>"
      ]
     },
     "metadata": {
      "needs_background": "light"
     },
     "output_type": "display_data"
    }
   ],
   "source": [
    "plt.figure()\n",
    "plt.scatter(testerdf2['X Coordinate 2'].tolist(),testerdf2['Y Coordinate 2'].tolist(),c=testerdf2['xPassToPoint'].tolist(),s=10,cmap='viridis')\n",
    "#plt.gray()\n",
    "plt.colorbar()\n",
    "plt.show()"
   ]
  },
  {
   "cell_type": "code",
   "execution_count": 192,
   "metadata": {},
   "outputs": [
    {
     "data": {
      "image/png": "[encoded data removed]",
      "text/plain": [
       "<Figure size 432x288 with 1 Axes>"
      ]
     },
     "metadata": {
      "needs_background": "light"
     },
     "output_type": "display_data"
    }
   ],
   "source": [
    "rinkPath = 'https://raw.githubusercontent.com/bigdatacup/Big-Data-Cup-2021/main/rink_coords.png'\n",
    "im = plt.imread(rinkPath)\n",
    "plt.imshow(im,extent=(0,210,0,90))\n",
    "plt.axis('off')\n",
    "plt.show()"
   ]
  },
  {
   "cell_type": "code",
   "execution_count": null,
   "metadata": {},
   "outputs": [],
   "source": []
  }
 ],
 "metadata": {
  "kernelspec": {
   "display_name": "Python 3",
   "language": "python",
   "name": "python3"
  },
  "language_info": {
   "codemirror_mode": {
    "name": "ipython",
    "version": 3
   },
   "file_extension": ".py",
   "mimetype": "text/x-python",
   "name": "python",
   "nbconvert_exporter": "python",
   "pygments_lexer": "ipython3",
   "version": "3.7.6"
  }
 },
 "nbformat": 4,
 "nbformat_minor": 4
}
