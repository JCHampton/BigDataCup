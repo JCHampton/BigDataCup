{
 "cells": [
  {
   "cell_type": "code",
   "execution_count": 119,
   "metadata": {},
   "outputs": [],
   "source": [
    "#import some stuff\n",
    "import pandas as pd\n",
    "import numpy as np\n",
    "import matplotlib.pyplot as plt\n",
    "import math\n",
    "import os\n",
    "from tqdm import tqdm\n",
    "import glob\n",
    "import time\n",
    "import xgboost as xgb\n",
    "from sklearn.model_selection import train_test_split #use this?\n",
    "from scipy import stats"
   ]
  },
  {
   "cell_type": "code",
   "execution_count": 458,
   "metadata": {},
   "outputs": [],
   "source": [
    "urlScout = 'https://raw.githubusercontent.com/bigdatacup/Big-Data-Cup-2021/main/hackathon_scouting.csv'\n",
    "urlWomen = 'https://raw.githubusercontent.com/bigdatacup/Big-Data-Cup-2021/main/hackathon_womens.csv'\n",
    "urlNWHL = 'https://raw.githubusercontent.com/bigdatacup/Big-Data-Cup-2021/main/hackathon_nwhl.csv'\n",
    "dataScout = pd.read_csv(urlScout)\n",
    "dataWomen = pd.read_csv(urlWomen)\n",
    "dataNWHL = pd.read_csv(urlNWHL)"
   ]
  },
  {
   "cell_type": "code",
   "execution_count": 3,
   "metadata": {},
   "outputs": [],
   "source": [
    "pd.set_option('display.max_columns', None)"
   ]
  },
  {
   "cell_type": "code",
   "execution_count": 462,
   "metadata": {},
   "outputs": [
    {
     "data": {
      "text/plain": [
       "75873"
      ]
     },
     "execution_count": 462,
     "metadata": {},
     "output_type": "execute_result"
    }
   ],
   "source": [
    "len(dataScout)"
   ]
  },
  {
   "cell_type": "code",
   "execution_count": 389,
   "metadata": {},
   "outputs": [
    {
     "data": {
      "text/html": [
       "<div>\n",
       "<style scoped>\n",
       "    .dataframe tbody tr th:only-of-type {\n",
       "        vertical-align: middle;\n",
       "    }\n",
       "\n",
       "    .dataframe tbody tr th {\n",
       "        vertical-align: top;\n",
       "    }\n",
       "\n",
       "    .dataframe thead th {\n",
       "        text-align: right;\n",
       "    }\n",
       "</style>\n",
       "<table border=\"1\" class=\"dataframe\">\n",
       "  <thead>\n",
       "    <tr style=\"text-align: right;\">\n",
       "      <th></th>\n",
       "      <th>game_date</th>\n",
       "      <th>Home Team</th>\n",
       "      <th>Away Team</th>\n",
       "      <th>Period</th>\n",
       "      <th>Clock</th>\n",
       "      <th>Home Team Skaters</th>\n",
       "      <th>Away Team Skaters</th>\n",
       "      <th>Home Team Goals</th>\n",
       "      <th>Away Team Goals</th>\n",
       "      <th>Team</th>\n",
       "      <th>Player</th>\n",
       "      <th>Event</th>\n",
       "      <th>X Coordinate</th>\n",
       "      <th>Y Coordinate</th>\n",
       "      <th>Detail 1</th>\n",
       "      <th>Detail 2</th>\n",
       "      <th>Detail 3</th>\n",
       "      <th>Detail 4</th>\n",
       "      <th>Player 2</th>\n",
       "      <th>X Coordinate 2</th>\n",
       "      <th>Y Coordinate 2</th>\n",
       "    </tr>\n",
       "  </thead>\n",
       "  <tbody>\n",
       "    <tr>\n",
       "      <th>0</th>\n",
       "      <td>2019-09-20</td>\n",
       "      <td>Erie Otters</td>\n",
       "      <td>Sudbury Wolves</td>\n",
       "      <td>1</td>\n",
       "      <td>20:00</td>\n",
       "      <td>5</td>\n",
       "      <td>5</td>\n",
       "      <td>0</td>\n",
       "      <td>0</td>\n",
       "      <td>Sudbury Wolves</td>\n",
       "      <td>Blake Murray</td>\n",
       "      <td>Faceoff Win</td>\n",
       "      <td>100</td>\n",
       "      <td>43</td>\n",
       "      <td>Forehand</td>\n",
       "      <td>NaN</td>\n",
       "      <td>NaN</td>\n",
       "      <td>NaN</td>\n",
       "      <td>Connor Lockhart</td>\n",
       "      <td>NaN</td>\n",
       "      <td>NaN</td>\n",
       "    </tr>\n",
       "  </tbody>\n",
       "</table>\n",
       "</div>"
      ],
      "text/plain": [
       "    game_date    Home Team       Away Team  Period  Clock  Home Team Skaters  \\\n",
       "0  2019-09-20  Erie Otters  Sudbury Wolves       1  20:00                  5   \n",
       "\n",
       "   Away Team Skaters  Home Team Goals  Away Team Goals            Team  \\\n",
       "0                  5                0                0  Sudbury Wolves   \n",
       "\n",
       "         Player        Event  X Coordinate  Y Coordinate  Detail 1 Detail 2  \\\n",
       "0  Blake Murray  Faceoff Win           100            43  Forehand      NaN   \n",
       "\n",
       "  Detail 3 Detail 4         Player 2  X Coordinate 2  Y Coordinate 2  \n",
       "0      NaN      NaN  Connor Lockhart             NaN             NaN  "
      ]
     },
     "execution_count": 389,
     "metadata": {},
     "output_type": "execute_result"
    }
   ],
   "source": [
    "dataScout.head(1)"
   ]
  },
  {
   "cell_type": "code",
   "execution_count": 461,
   "metadata": {},
   "outputs": [
    {
     "name": "stdout",
     "output_type": "stream",
     "text": [
      "There are  13  games in the women dataset\n",
      "There are  40  games in the scout dataset\n",
      "There are  15  games in the NWHL dataset\n"
     ]
    }
   ],
   "source": [
    "a = np.array(dataWomen[['game_date','Home Team','Away Team']]).astype(\"<U22\")\n",
    "print('There are ',len(np.unique(a,axis=0)),' games in the women dataset')\n",
    "b = np.array(dataScout[['game_date','Home Team','Away Team']]).astype(\"<U22\")\n",
    "print('There are ',len(np.unique(b,axis=0)),' games in the scout dataset')\n",
    "b = np.array(dataNWHL[['game_date','Home Team','Away Team']]).astype(\"<U22\")\n",
    "print('There are ',len(np.unique(b,axis=0)),' games in the NWHL dataset')"
   ]
  },
  {
   "cell_type": "code",
   "execution_count": 261,
   "metadata": {},
   "outputs": [
    {
     "data": {
      "text/html": [
       "<div>\n",
       "<style scoped>\n",
       "    .dataframe tbody tr th:only-of-type {\n",
       "        vertical-align: middle;\n",
       "    }\n",
       "\n",
       "    .dataframe tbody tr th {\n",
       "        vertical-align: top;\n",
       "    }\n",
       "\n",
       "    .dataframe thead th {\n",
       "        text-align: right;\n",
       "    }\n",
       "</style>\n",
       "<table border=\"1\" class=\"dataframe\">\n",
       "  <thead>\n",
       "    <tr style=\"text-align: right;\">\n",
       "      <th></th>\n",
       "      <th>game_date</th>\n",
       "      <th>Home Team</th>\n",
       "      <th>Away Team</th>\n",
       "      <th>Period</th>\n",
       "      <th>Clock</th>\n",
       "      <th>Home Team Skaters</th>\n",
       "      <th>Away Team Skaters</th>\n",
       "      <th>Home Team Goals</th>\n",
       "      <th>Away Team Goals</th>\n",
       "      <th>Team</th>\n",
       "      <th>Player</th>\n",
       "      <th>Event</th>\n",
       "      <th>X Coordinate</th>\n",
       "      <th>Y Coordinate</th>\n",
       "      <th>Detail 1</th>\n",
       "      <th>Detail 2</th>\n",
       "      <th>Detail 3</th>\n",
       "      <th>Detail 4</th>\n",
       "      <th>Player 2</th>\n",
       "      <th>X Coordinate 2</th>\n",
       "      <th>Y Coordinate 2</th>\n",
       "    </tr>\n",
       "  </thead>\n",
       "  <tbody>\n",
       "    <tr>\n",
       "      <th>0</th>\n",
       "      <td>2018-02-11</td>\n",
       "      <td>Olympic (Women) - Canada</td>\n",
       "      <td>Olympic (Women) - Olympic Athletes from Russia</td>\n",
       "      <td>1</td>\n",
       "      <td>20:00</td>\n",
       "      <td>5</td>\n",
       "      <td>5</td>\n",
       "      <td>0</td>\n",
       "      <td>0</td>\n",
       "      <td>Olympic (Women) - Canada</td>\n",
       "      <td>Emily Clark</td>\n",
       "      <td>Faceoff Win</td>\n",
       "      <td>100</td>\n",
       "      <td>42</td>\n",
       "      <td>Backhand</td>\n",
       "      <td>NaN</td>\n",
       "      <td>NaN</td>\n",
       "      <td>NaN</td>\n",
       "      <td>Lyudmila Belyakova</td>\n",
       "      <td>NaN</td>\n",
       "      <td>NaN</td>\n",
       "    </tr>\n",
       "  </tbody>\n",
       "</table>\n",
       "</div>"
      ],
      "text/plain": [
       "    game_date                 Home Team  \\\n",
       "0  2018-02-11  Olympic (Women) - Canada   \n",
       "\n",
       "                                        Away Team  Period  Clock  \\\n",
       "0  Olympic (Women) - Olympic Athletes from Russia       1  20:00   \n",
       "\n",
       "   Home Team Skaters  Away Team Skaters  Home Team Goals  Away Team Goals  \\\n",
       "0                  5                  5                0                0   \n",
       "\n",
       "                       Team       Player        Event  X Coordinate  \\\n",
       "0  Olympic (Women) - Canada  Emily Clark  Faceoff Win           100   \n",
       "\n",
       "   Y Coordinate  Detail 1 Detail 2 Detail 3 Detail 4            Player 2  \\\n",
       "0            42  Backhand      NaN      NaN      NaN  Lyudmila Belyakova   \n",
       "\n",
       "   X Coordinate 2  Y Coordinate 2  \n",
       "0             NaN             NaN  "
      ]
     },
     "execution_count": 261,
     "metadata": {},
     "output_type": "execute_result"
    }
   ],
   "source": [
    "dataWomen.head(1)"
   ]
  },
  {
   "cell_type": "code",
   "execution_count": 339,
   "metadata": {},
   "outputs": [
    {
     "name": "stdout",
     "output_type": "stream",
     "text": [
      "Amount of Passes for Women: 10105\n",
      "Amount of Shots for Women: 1671\n"
     ]
    }
   ],
   "source": [
    "print('Amount of Passes for Women:',len(dataWomen.loc[(dataWomen['Event'] ==  'Play' ) | (dataWomen['Event'] == 'Incomplete Play')]))\n",
    "print('Amount of Shots for Women:',len(dataWomen.loc[(dataWomen['Event'] ==  'Shot' ) | (dataWomen['Event'] == 'Goal')]))"
   ]
  },
  {
   "cell_type": "code",
   "execution_count": 340,
   "metadata": {},
   "outputs": [
    {
     "name": "stdout",
     "output_type": "stream",
     "text": [
      "Amount of Passes for Scout: 32668\n",
      "Amount of Shots for Scout: 5180\n"
     ]
    }
   ],
   "source": [
    "print('Amount of Passes for Scout:',len(dataScout.loc[(dataScout['Event'] ==  'Play' ) | (dataScout['Event'] == 'Incomplete Play')]))\n",
    "print('Amount of Shots for Scout:',len(dataScout.loc[(dataScout['Event'] ==  'Shot' ) | (dataScout['Event'] == 'Goal')]))"
   ]
  },
  {
   "cell_type": "code",
   "execution_count": 8,
   "metadata": {},
   "outputs": [],
   "source": [
    "#dataWomen.loc[(dataWomen['Event'] == 'Zone Entry') & (dataWomen['Detail 1'] == 'Played')].head()"
   ]
  },
  {
   "cell_type": "code",
   "execution_count": 366,
   "metadata": {},
   "outputs": [
    {
     "data": {
      "text/html": [
       "<div>\n",
       "<style scoped>\n",
       "    .dataframe tbody tr th:only-of-type {\n",
       "        vertical-align: middle;\n",
       "    }\n",
       "\n",
       "    .dataframe tbody tr th {\n",
       "        vertical-align: top;\n",
       "    }\n",
       "\n",
       "    .dataframe thead th {\n",
       "        text-align: right;\n",
       "    }\n",
       "</style>\n",
       "<table border=\"1\" class=\"dataframe\">\n",
       "  <thead>\n",
       "    <tr style=\"text-align: right;\">\n",
       "      <th></th>\n",
       "      <th>game_date</th>\n",
       "      <th>Home Team</th>\n",
       "      <th>Away Team</th>\n",
       "      <th>Period</th>\n",
       "      <th>Clock</th>\n",
       "      <th>Home Team Skaters</th>\n",
       "      <th>Away Team Skaters</th>\n",
       "      <th>Home Team Goals</th>\n",
       "      <th>Away Team Goals</th>\n",
       "      <th>Team</th>\n",
       "      <th>Player</th>\n",
       "      <th>Event</th>\n",
       "      <th>X Coordinate</th>\n",
       "      <th>Y Coordinate</th>\n",
       "      <th>Detail 1</th>\n",
       "      <th>Detail 2</th>\n",
       "      <th>Detail 3</th>\n",
       "      <th>Detail 4</th>\n",
       "      <th>Player 2</th>\n",
       "      <th>X Coordinate 2</th>\n",
       "      <th>Y Coordinate 2</th>\n",
       "    </tr>\n",
       "  </thead>\n",
       "  <tbody>\n",
       "    <tr>\n",
       "      <th>16</th>\n",
       "      <td>2019-09-20</td>\n",
       "      <td>Erie Otters</td>\n",
       "      <td>Sudbury Wolves</td>\n",
       "      <td>1</td>\n",
       "      <td>19:26</td>\n",
       "      <td>5</td>\n",
       "      <td>5</td>\n",
       "      <td>0</td>\n",
       "      <td>0</td>\n",
       "      <td>Sudbury Wolves</td>\n",
       "      <td>Shane Bulitka</td>\n",
       "      <td>Shot</td>\n",
       "      <td>177</td>\n",
       "      <td>57</td>\n",
       "      <td>Snapshot</td>\n",
       "      <td>On Net</td>\n",
       "      <td>f</td>\n",
       "      <td>f</td>\n",
       "      <td>NaN</td>\n",
       "      <td>NaN</td>\n",
       "      <td>NaN</td>\n",
       "    </tr>\n",
       "  </tbody>\n",
       "</table>\n",
       "</div>"
      ],
      "text/plain": [
       "     game_date    Home Team       Away Team  Period  Clock  Home Team Skaters  \\\n",
       "16  2019-09-20  Erie Otters  Sudbury Wolves       1  19:26                  5   \n",
       "\n",
       "    Away Team Skaters  Home Team Goals  Away Team Goals            Team  \\\n",
       "16                  5                0                0  Sudbury Wolves   \n",
       "\n",
       "           Player Event  X Coordinate  Y Coordinate  Detail 1 Detail 2  \\\n",
       "16  Shane Bulitka  Shot           177            57  Snapshot   On Net   \n",
       "\n",
       "   Detail 3 Detail 4 Player 2  X Coordinate 2  Y Coordinate 2  \n",
       "16        f        f      NaN             NaN             NaN  "
      ]
     },
     "execution_count": 366,
     "metadata": {},
     "output_type": "execute_result"
    }
   ],
   "source": [
    "dataScout.loc[(dataScout['Event'] ==  'Shot' ) | (dataScout['Event'] == 'Goal')].head(1)"
   ]
  },
  {
   "cell_type": "code",
   "execution_count": 420,
   "metadata": {},
   "outputs": [],
   "source": [
    "#here this will help make an xGoals model\n",
    "def getDataReadyxGoals(df):\n",
    "    df = df.copy()\n",
    "    df['isFaceOff'] = df['Event'].apply(lambda row: row == 'Faceoff Win')\n",
    "    df['SecondsLeft'] = df['Clock'].apply(lambda row: float(row.split(':')[0]) * 60 + float(row.split(':')[1]))\n",
    "    df['ChangeInPoss'] = (df['Team'] != df['Team'].shift(1))\n",
    "    df['ChangeInPoss'] = df.apply(lambda row: True if (row['Event'] == 'Faceoff Win') else row['ChangeInPoss'],axis=1)\n",
    "    df = df.rename(columns={'ChangeInPoss':'PossStart'})\n",
    "    df['PossStartTime'] = df.apply(lambda row: row['SecondsLeft'] if row['PossStart'] else -1.0,axis=1)\n",
    "    \n",
    "    \n",
    "    for i in range(len(df)):\n",
    "        if df.loc[i,'PossStartTime'] == -1.0:\n",
    "            df.loc[i,'PossStartTime'] = df.loc[i-1,'PossStartTime']\n",
    "    df['PossTotalTime'] = df.apply(lambda row: row['PossStartTime'] - row['SecondsLeft'],axis=1)\n",
    "    df['LastEvent'] = df['Event'].shift(1)\n",
    "    df['TimeBetweenEvents'] = df['SecondsLeft'].shift(1,fill_value=1200) - df['SecondsLeft']\n",
    "    df = df.drop(columns=['PossStart','PossStartTime']) #drop these cuz I don't think I need them\n",
    "    \n",
    "    #filteredDF = df.loc[(df['Event'] ==  'Shot' ) | (df['Event'] == 'Goal')].copy() #only need these rows\n",
    "    filteredDF = df.copy()\n",
    "    filteredDF['fromPass'] = filteredDF.apply(lambda row: 1 if (row['LastEvent'] == 'Play') else 0,axis=1)\n",
    "    filteredDF['TeamSkaters'] = filteredDF.apply(lambda row: row['Home Team Skaters'] if (row['Team'] == row['Home Team']) else row['Away Team Skaters'],axis=1)\n",
    "    filteredDF['OppSkaters'] = filteredDF.apply(lambda row: row['Home Team Skaters'] if (row['Team'] == row['Away Team']) else row['Away Team Skaters'],axis=1)\n",
    "    filteredDF['onPP'] = filteredDF.apply(lambda row: row['TeamSkaters'] > row['OppSkaters'],axis=1)\n",
    "    filteredDF['onPK'] = filteredDF.apply(lambda row: row['TeamSkaters'] < row['OppSkaters'],axis=1)\n",
    "    filteredDF['AmountExtraSkaters'] = filteredDF.apply(lambda row: row['TeamSkaters'] - row['OppSkaters'],axis=1)\n",
    "    filteredDF['Goal'] = filteredDF.apply(lambda row: 1 if (row['Event'] == 'Goal') else 0,axis=1)\n",
    "    filteredDF['TypeDeflection'] = filteredDF.apply(lambda row: 1 if (row['Detail 1'] == 'Deflection') else 0,axis=1)\n",
    "    filteredDF['TypeSlapshot'] = filteredDF.apply(lambda row: 1 if (row['Detail 1'] == 'Slapshot') else 0,axis=1)\n",
    "    filteredDF['TypeSnapshot'] = filteredDF.apply(lambda row: 1 if (row['Detail 1'] == 'Snapshot') else 0,axis=1)\n",
    "    filteredDF['TypeWrapAround'] = filteredDF.apply(lambda row: 1 if (row['Detail 1'] == 'Wrap Around') else 0,axis=1)\n",
    "    filteredDF['TypeWristshot'] = filteredDF.apply(lambda row: 1 if (row['Detail 1'] == 'Wristshot') else 0,axis=1)\n",
    "    #we don't include detail 2 since that would bias the results toward 'on net' being the best\n",
    "    #it's info we don't know at the shot time\n",
    "    filteredDF['isTraffic'] = filteredDF.apply(lambda row: 1 if (row['Detail 3'] == 't') else 0,axis=1)\n",
    "    filteredDF['isOneTimer'] = filteredDF.apply(lambda row: 1 if (row['Detail 4'] == 't') else 0,axis=1)\n",
    "    filteredDF['DistanceToCenterGoal'] = filteredDF.apply(lambda row: ((189 - row['X Coordinate'])**2 + (42.5 - row['Y Coordinate'])**2)**0.5,axis=1)\n",
    "    def getAreaNet(x,y):\n",
    "        if y > 42.5:\n",
    "            y = 85 - y #so it's like we're on the bottom side of the rink - mirror doesn't matter\n",
    "        hyp = ((189 - x)**2 + (39.5 - y)**2)**0.5\n",
    "        vector1 = [189 - x, 39.5 - y]\n",
    "        vector2 = [189 - x, 45.5 - y]\n",
    "        unit_vector_1 = vector1 / np.linalg.norm(vector1)\n",
    "        unit_vector_2 = vector2 / np.linalg.norm(vector2)\n",
    "        dot_product = np.dot(unit_vector_1, unit_vector_2)\n",
    "        angle = np.arccos(dot_product)\n",
    "        angle = angle / 2 #using angle bisector for triangle\n",
    "        halfNet = np.sin(angle) * hyp\n",
    "        fullNet = 2 * halfNet\n",
    "        return fullNet*4\n",
    "    filteredDF['SurfaceAreaNetSeen'] = filteredDF.apply(lambda row: getAreaNet(row['X Coordinate'],row['Y Coordinate']),axis=1)\n",
    "    \n",
    "    filteredDF['GoalsDown'] = filteredDF.apply(lambda row: (row['Home Team Goals'] - row['Away Team Goals'])\n",
    "                                              if (row['Team'] == row['Away Team Goals'])\n",
    "                                              else (row['Away Team Goals'] - row['Home Team Goals']),axis=1)\n",
    "    #filteredDF = filteredDF[['PossTotalTime','onPP','onPK','AmountExtraSkaters','fromPass','TimeBetweenEvents',\n",
    "    #                  'TypeDeflection','TypeSlapshot','TypeSnapshot','TypeWrapAround','TypeWristshot',\n",
    "    #                  'isTraffic','isOneTimer','DistanceToCenterGoal','SurfaceAreaNetSeen','Goal']] #not using GoalsDown\n",
    "    \n",
    "    #this is for the small df\n",
    "    #filteredDF = filteredDF[['PossTotalTime','onPP','onPK','AmountExtraSkaters','DistanceToCenterGoal','SurfaceAreaNetSeen','Goal']]\n",
    "    #X = filteredDF.iloc[:,:-1]\n",
    "    #y = filteredDF.iloc[:,-1]\n",
    "    return filteredDF #X,y"
   ]
  },
  {
   "cell_type": "code",
   "execution_count": 421,
   "metadata": {},
   "outputs": [],
   "source": [
    "testDF = getDataReadyxGoals(dataScout)"
   ]
  },
  {
   "cell_type": "code",
   "execution_count": 135,
   "metadata": {},
   "outputs": [],
   "source": [
    "#get train/test split ready\n",
    "\n",
    "Xtrain, Xtest, ytrain, ytest = train_test_split(X,y,test_size=0.25,random_state=24) #can add shuffle=False to not shuffle"
   ]
  },
  {
   "cell_type": "markdown",
   "metadata": {},
   "source": [
    "an idea is to train on non-erie player and test on erie\n",
    "\n",
    "try XGBRegressor or classifier?"
   ]
  },
  {
   "cell_type": "code",
   "execution_count": 442,
   "metadata": {},
   "outputs": [
    {
     "name": "stdout",
     "output_type": "stream",
     "text": [
      "There were 387 penalties (not fighting)\n",
      "There were 293 goals\n",
      "There were 16 goals with 6 men\n",
      "There were 74 goals with on PPs\n"
     ]
    }
   ],
   "source": [
    "print('There were',len(testDF.loc[(testDF['Event'] == 'Penalty Taken') & (testDF['Detail 1'] != 'Fighting')]),'penalties (not fighting)')\n",
    "print('There were',len(testDF.loc[testDF['Event'] == 'Goal']),'goals')\n",
    "print('There were',len(testDF.loc[(testDF['Event'] == 'Goal') & ((testDF['Home Team Skaters'] == 6) | (testDF['Away Team Skaters'] == 6))]),'goals with 6 men')\n",
    "print('There were',len(testDF.loc[(testDF['Event'] == 'Goal') & ((testDF['Home Team Skaters'] < 5) | (testDF['Away Team Skaters'] < 5))]),'goals with on PPs')\n",
    "\n",
    "\n",
    "#testDF.loc[(testDF['Event'] == 'Takeaway') & (testDF['X Coordinate'] < 75)]"
   ]
  },
  {
   "cell_type": "code",
   "execution_count": 439,
   "metadata": {},
   "outputs": [
    {
     "data": {
      "text/plain": [
       "array(['Cross-checking', 'Holding', 'Fighting', 'High-sticking',\n",
       "       'Tripping', 'Instigator', 'Hooking', 'Too many men on the ice',\n",
       "       'Roughing', 'Interference', 'Slashing', 'Delay of game',\n",
       "       'Holding the stick', 'Illegal Check to the Head', 'Diving',\n",
       "       'Unsportsmanlike conduct', 'Illegal equipment',\n",
       "       'Checking from behind', 'Goalkeeper interference', 'Misconduct',\n",
       "       'Kneeing', 'Boarding', 'Spearing', 'Elbowing'], dtype=object)"
      ]
     },
     "execution_count": 439,
     "metadata": {},
     "output_type": "execute_result"
    }
   ],
   "source": [
    "testDF.loc[testDF['Event'] == 'Penalty Taken','Detail 1'].unique()"
   ]
  },
  {
   "cell_type": "code",
   "execution_count": 456,
   "metadata": {},
   "outputs": [
    {
     "name": "stdout",
     "output_type": "stream",
     "text": [
      "There were 10739.0 penalty seconds\n",
      "So there were 0.19121447028423771 goals/power play\n",
      "Teams combine to score at a rate of 0.1827991685489378 per 2 minutes\n"
     ]
    }
   ],
   "source": [
    "print('There were',testDF.loc[(testDF['onPP']) | (testDF['onPK']),'TimeBetweenEvents'].sum(),'penalty seconds')\n",
    "print('So there were',74/387, 'goals/power play')\n",
    "print('Teams combine to score at a rate of',203*120/133261,'per 2 minutes')"
   ]
  },
  {
   "cell_type": "code",
   "execution_count": 451,
   "metadata": {},
   "outputs": [
    {
     "data": {
      "text/plain": [
       "133261"
      ]
     },
     "execution_count": 451,
     "metadata": {},
     "output_type": "execute_result"
    }
   ],
   "source": [
    "40*20*3*60 - 10739"
   ]
  },
  {
   "cell_type": "code",
   "execution_count": null,
   "metadata": {},
   "outputs": [],
   "source": []
  }
 ],
 "metadata": {
  "kernelspec": {
   "display_name": "Python 3",
   "language": "python",
   "name": "python3"
  },
  "language_info": {
   "codemirror_mode": {
    "name": "ipython",
    "version": 3
   },
   "file_extension": ".py",
   "mimetype": "text/x-python",
   "name": "python",
   "nbconvert_exporter": "python",
   "pygments_lexer": "ipython3",
   "version": "3.7.6"
  }
 },
 "nbformat": 4,
 "nbformat_minor": 4
}
